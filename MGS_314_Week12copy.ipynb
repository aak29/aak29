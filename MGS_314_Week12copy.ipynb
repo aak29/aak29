{
  "nbformat": 4,
  "nbformat_minor": 0,
  "metadata": {
    "colab": {
      "provenance": [],
      "authorship_tag": "ABX9TyPUyLugEA42dFDGgaJq5V6l",
      "include_colab_link": true
    },
    "kernelspec": {
      "name": "python3",
      "display_name": "Python 3"
    },
    "language_info": {
      "name": "python"
    }
  },
  "cells": [
    {
      "cell_type": "markdown",
      "metadata": {
        "id": "view-in-github",
        "colab_type": "text"
      },
      "source": [
        "<a href=\"https://colab.research.google.com/github/aak29/aak29/blob/main/MGS_314_Week12copy.ipynb\" target=\"_parent\"><img src=\"https://colab.research.google.com/assets/colab-badge.svg\" alt=\"Open In Colab\"/></a>"
      ]
    },
    {
      "cell_type": "code",
      "execution_count": 2,
      "metadata": {
        "id": "hdotNFbdGMHv"
      },
      "outputs": [],
      "source": [
        "#import the packages\n",
        "import datetime as dt\n",
        "import matplotlib.pyplot as plt\n",
        "from matplotlib import style\n",
        "import pandas as pd\n",
        "import pandas_datareader.data as web"
      ]
    },
    {
      "cell_type": "code",
      "source": [
        "#Pick a style:\n",
        "style.use('ggplot')"
      ],
      "metadata": {
        "id": "2fCmujj5HRyW"
      },
      "execution_count": 3,
      "outputs": []
    },
    {
      "cell_type": "markdown",
      "source": [
        "To see all available styles, use this command:  \n",
        "print(plt.style.available)"
      ],
      "metadata": {
        "id": "ayDLQGl_4xhg"
      }
    },
    {
      "cell_type": "code",
      "source": [
        "start = dt.datetime(2022,1,1)\n",
        "end = dt.datetime(2022,12,31)\n"
      ],
      "metadata": {
        "id": "NAWLHsiQGxpy"
      },
      "execution_count": 6,
      "outputs": []
    },
    {
      "cell_type": "code",
      "source": [
        "#Create a dataframe\n",
        "df = web.DataReader('TSLA', 'stooq', start, end)"
      ],
      "metadata": {
        "id": "y9IX5GvlHDuy"
      },
      "execution_count": 7,
      "outputs": []
    },
    {
      "cell_type": "code",
      "source": [
        "#Export to a csv\n",
        "df.to_csv('tsla.csv')"
      ],
      "metadata": {
        "id": "bUvgnWMCHcar"
      },
      "execution_count": 8,
      "outputs": []
    },
    {
      "cell_type": "code",
      "source": [
        "#Reduce decimal places for easier viewing\n",
        "pd.set_option(\"display.precision\", 2)"
      ],
      "metadata": {
        "id": "YpH-GzZJHEc4"
      },
      "execution_count": 9,
      "outputs": []
    },
    {
      "cell_type": "code",
      "source": [
        "df.head()"
      ],
      "metadata": {
        "colab": {
          "base_uri": "https://localhost:8080/",
          "height": 238
        },
        "id": "jIOMkowbH5B8",
        "outputId": "7fc17a90-0a20-4ee9-fb41-2a06721d153d"
      },
      "execution_count": 10,
      "outputs": [
        {
          "output_type": "execute_result",
          "data": {
            "text/plain": [
              "              Open    High     Low   Close     Volume\n",
              "Date                                                 \n",
              "2022-11-15  195.88  200.82  192.06  194.42   91293785\n",
              "2022-11-14  192.77  195.73  186.34  190.95   92226649\n",
              "2022-11-11  186.00  196.52  182.59  195.97  114403575\n",
              "2022-11-10  189.90  191.00  180.03  190.72  132703015\n",
              "2022-11-09  190.78  195.89  177.12  177.59  127062659"
            ],
            "text/html": [
              "\n",
              "  <div id=\"df-505ee163-f907-4c15-ba11-f29ed0f752ba\">\n",
              "    <div class=\"colab-df-container\">\n",
              "      <div>\n",
              "<style scoped>\n",
              "    .dataframe tbody tr th:only-of-type {\n",
              "        vertical-align: middle;\n",
              "    }\n",
              "\n",
              "    .dataframe tbody tr th {\n",
              "        vertical-align: top;\n",
              "    }\n",
              "\n",
              "    .dataframe thead th {\n",
              "        text-align: right;\n",
              "    }\n",
              "</style>\n",
              "<table border=\"1\" class=\"dataframe\">\n",
              "  <thead>\n",
              "    <tr style=\"text-align: right;\">\n",
              "      <th></th>\n",
              "      <th>Open</th>\n",
              "      <th>High</th>\n",
              "      <th>Low</th>\n",
              "      <th>Close</th>\n",
              "      <th>Volume</th>\n",
              "    </tr>\n",
              "    <tr>\n",
              "      <th>Date</th>\n",
              "      <th></th>\n",
              "      <th></th>\n",
              "      <th></th>\n",
              "      <th></th>\n",
              "      <th></th>\n",
              "    </tr>\n",
              "  </thead>\n",
              "  <tbody>\n",
              "    <tr>\n",
              "      <th>2022-11-15</th>\n",
              "      <td>195.88</td>\n",
              "      <td>200.82</td>\n",
              "      <td>192.06</td>\n",
              "      <td>194.42</td>\n",
              "      <td>91293785</td>\n",
              "    </tr>\n",
              "    <tr>\n",
              "      <th>2022-11-14</th>\n",
              "      <td>192.77</td>\n",
              "      <td>195.73</td>\n",
              "      <td>186.34</td>\n",
              "      <td>190.95</td>\n",
              "      <td>92226649</td>\n",
              "    </tr>\n",
              "    <tr>\n",
              "      <th>2022-11-11</th>\n",
              "      <td>186.00</td>\n",
              "      <td>196.52</td>\n",
              "      <td>182.59</td>\n",
              "      <td>195.97</td>\n",
              "      <td>114403575</td>\n",
              "    </tr>\n",
              "    <tr>\n",
              "      <th>2022-11-10</th>\n",
              "      <td>189.90</td>\n",
              "      <td>191.00</td>\n",
              "      <td>180.03</td>\n",
              "      <td>190.72</td>\n",
              "      <td>132703015</td>\n",
              "    </tr>\n",
              "    <tr>\n",
              "      <th>2022-11-09</th>\n",
              "      <td>190.78</td>\n",
              "      <td>195.89</td>\n",
              "      <td>177.12</td>\n",
              "      <td>177.59</td>\n",
              "      <td>127062659</td>\n",
              "    </tr>\n",
              "  </tbody>\n",
              "</table>\n",
              "</div>\n",
              "      <button class=\"colab-df-convert\" onclick=\"convertToInteractive('df-505ee163-f907-4c15-ba11-f29ed0f752ba')\"\n",
              "              title=\"Convert this dataframe to an interactive table.\"\n",
              "              style=\"display:none;\">\n",
              "        \n",
              "  <svg xmlns=\"http://www.w3.org/2000/svg\" height=\"24px\"viewBox=\"0 0 24 24\"\n",
              "       width=\"24px\">\n",
              "    <path d=\"M0 0h24v24H0V0z\" fill=\"none\"/>\n",
              "    <path d=\"M18.56 5.44l.94 2.06.94-2.06 2.06-.94-2.06-.94-.94-2.06-.94 2.06-2.06.94zm-11 1L8.5 8.5l.94-2.06 2.06-.94-2.06-.94L8.5 2.5l-.94 2.06-2.06.94zm10 10l.94 2.06.94-2.06 2.06-.94-2.06-.94-.94-2.06-.94 2.06-2.06.94z\"/><path d=\"M17.41 7.96l-1.37-1.37c-.4-.4-.92-.59-1.43-.59-.52 0-1.04.2-1.43.59L10.3 9.45l-7.72 7.72c-.78.78-.78 2.05 0 2.83L4 21.41c.39.39.9.59 1.41.59.51 0 1.02-.2 1.41-.59l7.78-7.78 2.81-2.81c.8-.78.8-2.07 0-2.86zM5.41 20L4 18.59l7.72-7.72 1.47 1.35L5.41 20z\"/>\n",
              "  </svg>\n",
              "      </button>\n",
              "      \n",
              "  <style>\n",
              "    .colab-df-container {\n",
              "      display:flex;\n",
              "      flex-wrap:wrap;\n",
              "      gap: 12px;\n",
              "    }\n",
              "\n",
              "    .colab-df-convert {\n",
              "      background-color: #E8F0FE;\n",
              "      border: none;\n",
              "      border-radius: 50%;\n",
              "      cursor: pointer;\n",
              "      display: none;\n",
              "      fill: #1967D2;\n",
              "      height: 32px;\n",
              "      padding: 0 0 0 0;\n",
              "      width: 32px;\n",
              "    }\n",
              "\n",
              "    .colab-df-convert:hover {\n",
              "      background-color: #E2EBFA;\n",
              "      box-shadow: 0px 1px 2px rgba(60, 64, 67, 0.3), 0px 1px 3px 1px rgba(60, 64, 67, 0.15);\n",
              "      fill: #174EA6;\n",
              "    }\n",
              "\n",
              "    [theme=dark] .colab-df-convert {\n",
              "      background-color: #3B4455;\n",
              "      fill: #D2E3FC;\n",
              "    }\n",
              "\n",
              "    [theme=dark] .colab-df-convert:hover {\n",
              "      background-color: #434B5C;\n",
              "      box-shadow: 0px 1px 3px 1px rgba(0, 0, 0, 0.15);\n",
              "      filter: drop-shadow(0px 1px 2px rgba(0, 0, 0, 0.3));\n",
              "      fill: #FFFFFF;\n",
              "    }\n",
              "  </style>\n",
              "\n",
              "      <script>\n",
              "        const buttonEl =\n",
              "          document.querySelector('#df-505ee163-f907-4c15-ba11-f29ed0f752ba button.colab-df-convert');\n",
              "        buttonEl.style.display =\n",
              "          google.colab.kernel.accessAllowed ? 'block' : 'none';\n",
              "\n",
              "        async function convertToInteractive(key) {\n",
              "          const element = document.querySelector('#df-505ee163-f907-4c15-ba11-f29ed0f752ba');\n",
              "          const dataTable =\n",
              "            await google.colab.kernel.invokeFunction('convertToInteractive',\n",
              "                                                     [key], {});\n",
              "          if (!dataTable) return;\n",
              "\n",
              "          const docLinkHtml = 'Like what you see? Visit the ' +\n",
              "            '<a target=\"_blank\" href=https://colab.research.google.com/notebooks/data_table.ipynb>data table notebook</a>'\n",
              "            + ' to learn more about interactive tables.';\n",
              "          element.innerHTML = '';\n",
              "          dataTable['output_type'] = 'display_data';\n",
              "          await google.colab.output.renderOutput(dataTable, element);\n",
              "          const docLink = document.createElement('div');\n",
              "          docLink.innerHTML = docLinkHtml;\n",
              "          element.appendChild(docLink);\n",
              "        }\n",
              "      </script>\n",
              "    </div>\n",
              "  </div>\n",
              "  "
            ]
          },
          "metadata": {},
          "execution_count": 10
        }
      ]
    },
    {
      "cell_type": "markdown",
      "source": [
        "If we read the csv back in as a dataframe:\n",
        "df = pd.read_csv('tsla.csv')\n",
        "pandas will assign it’s own index.\n",
        "\n",
        "Which is not what we want…\n",
        "We’ll need to specify the index when we create the dataframe:"
      ],
      "metadata": {
        "id": "-mHiRA0T5El8"
      }
    },
    {
      "cell_type": "code",
      "source": [
        "df = pd.read_csv('tsla.csv', parse_dates=True, index_col=0)"
      ],
      "metadata": {
        "id": "rVxj4NNJH_F7"
      },
      "execution_count": 11,
      "outputs": []
    },
    {
      "cell_type": "code",
      "source": [
        "df"
      ],
      "metadata": {
        "colab": {
          "base_uri": "https://localhost:8080/",
          "height": 455
        },
        "id": "9rudHj9XIRoX",
        "outputId": "36c060ef-6771-4d0b-c224-b8ff01dd4e51"
      },
      "execution_count": null,
      "outputs": [
        {
          "output_type": "execute_result",
          "data": {
            "text/plain": [
              "              Open    High     Low   Close     Volume\n",
              "Date                                                 \n",
              "2022-11-14  192.77  195.73  186.34  190.95   92226649\n",
              "2022-11-11  186.00  196.52  182.59  195.97  114403575\n",
              "2022-11-10  189.90  191.00  180.03  190.72  132703015\n",
              "2022-11-09  190.78  195.89  177.12  177.59  127062659\n",
              "2022-11-08  194.02  195.20  186.75  191.30  128803404\n",
              "...            ...     ...     ...     ...        ...\n",
              "2022-01-07  360.12  360.31  336.67  342.32   84164748\n",
              "2022-01-06  359.00  362.67  340.17  354.90   90336474\n",
              "2022-01-05  382.22  390.11  360.34  362.71   80119797\n",
              "2022-01-04  396.52  402.67  374.35  383.20  100248258\n",
              "2022-01-03  382.58  400.36  378.68  399.93  104686047\n",
              "\n",
              "[219 rows x 5 columns]"
            ],
            "text/html": [
              "\n",
              "  <div id=\"df-01e0467b-2ef6-4cc2-a699-823b4321c4ae\">\n",
              "    <div class=\"colab-df-container\">\n",
              "      <div>\n",
              "<style scoped>\n",
              "    .dataframe tbody tr th:only-of-type {\n",
              "        vertical-align: middle;\n",
              "    }\n",
              "\n",
              "    .dataframe tbody tr th {\n",
              "        vertical-align: top;\n",
              "    }\n",
              "\n",
              "    .dataframe thead th {\n",
              "        text-align: right;\n",
              "    }\n",
              "</style>\n",
              "<table border=\"1\" class=\"dataframe\">\n",
              "  <thead>\n",
              "    <tr style=\"text-align: right;\">\n",
              "      <th></th>\n",
              "      <th>Open</th>\n",
              "      <th>High</th>\n",
              "      <th>Low</th>\n",
              "      <th>Close</th>\n",
              "      <th>Volume</th>\n",
              "    </tr>\n",
              "    <tr>\n",
              "      <th>Date</th>\n",
              "      <th></th>\n",
              "      <th></th>\n",
              "      <th></th>\n",
              "      <th></th>\n",
              "      <th></th>\n",
              "    </tr>\n",
              "  </thead>\n",
              "  <tbody>\n",
              "    <tr>\n",
              "      <th>2022-11-14</th>\n",
              "      <td>192.77</td>\n",
              "      <td>195.73</td>\n",
              "      <td>186.34</td>\n",
              "      <td>190.95</td>\n",
              "      <td>92226649</td>\n",
              "    </tr>\n",
              "    <tr>\n",
              "      <th>2022-11-11</th>\n",
              "      <td>186.00</td>\n",
              "      <td>196.52</td>\n",
              "      <td>182.59</td>\n",
              "      <td>195.97</td>\n",
              "      <td>114403575</td>\n",
              "    </tr>\n",
              "    <tr>\n",
              "      <th>2022-11-10</th>\n",
              "      <td>189.90</td>\n",
              "      <td>191.00</td>\n",
              "      <td>180.03</td>\n",
              "      <td>190.72</td>\n",
              "      <td>132703015</td>\n",
              "    </tr>\n",
              "    <tr>\n",
              "      <th>2022-11-09</th>\n",
              "      <td>190.78</td>\n",
              "      <td>195.89</td>\n",
              "      <td>177.12</td>\n",
              "      <td>177.59</td>\n",
              "      <td>127062659</td>\n",
              "    </tr>\n",
              "    <tr>\n",
              "      <th>2022-11-08</th>\n",
              "      <td>194.02</td>\n",
              "      <td>195.20</td>\n",
              "      <td>186.75</td>\n",
              "      <td>191.30</td>\n",
              "      <td>128803404</td>\n",
              "    </tr>\n",
              "    <tr>\n",
              "      <th>...</th>\n",
              "      <td>...</td>\n",
              "      <td>...</td>\n",
              "      <td>...</td>\n",
              "      <td>...</td>\n",
              "      <td>...</td>\n",
              "    </tr>\n",
              "    <tr>\n",
              "      <th>2022-01-07</th>\n",
              "      <td>360.12</td>\n",
              "      <td>360.31</td>\n",
              "      <td>336.67</td>\n",
              "      <td>342.32</td>\n",
              "      <td>84164748</td>\n",
              "    </tr>\n",
              "    <tr>\n",
              "      <th>2022-01-06</th>\n",
              "      <td>359.00</td>\n",
              "      <td>362.67</td>\n",
              "      <td>340.17</td>\n",
              "      <td>354.90</td>\n",
              "      <td>90336474</td>\n",
              "    </tr>\n",
              "    <tr>\n",
              "      <th>2022-01-05</th>\n",
              "      <td>382.22</td>\n",
              "      <td>390.11</td>\n",
              "      <td>360.34</td>\n",
              "      <td>362.71</td>\n",
              "      <td>80119797</td>\n",
              "    </tr>\n",
              "    <tr>\n",
              "      <th>2022-01-04</th>\n",
              "      <td>396.52</td>\n",
              "      <td>402.67</td>\n",
              "      <td>374.35</td>\n",
              "      <td>383.20</td>\n",
              "      <td>100248258</td>\n",
              "    </tr>\n",
              "    <tr>\n",
              "      <th>2022-01-03</th>\n",
              "      <td>382.58</td>\n",
              "      <td>400.36</td>\n",
              "      <td>378.68</td>\n",
              "      <td>399.93</td>\n",
              "      <td>104686047</td>\n",
              "    </tr>\n",
              "  </tbody>\n",
              "</table>\n",
              "<p>219 rows × 5 columns</p>\n",
              "</div>\n",
              "      <button class=\"colab-df-convert\" onclick=\"convertToInteractive('df-01e0467b-2ef6-4cc2-a699-823b4321c4ae')\"\n",
              "              title=\"Convert this dataframe to an interactive table.\"\n",
              "              style=\"display:none;\">\n",
              "        \n",
              "  <svg xmlns=\"http://www.w3.org/2000/svg\" height=\"24px\"viewBox=\"0 0 24 24\"\n",
              "       width=\"24px\">\n",
              "    <path d=\"M0 0h24v24H0V0z\" fill=\"none\"/>\n",
              "    <path d=\"M18.56 5.44l.94 2.06.94-2.06 2.06-.94-2.06-.94-.94-2.06-.94 2.06-2.06.94zm-11 1L8.5 8.5l.94-2.06 2.06-.94-2.06-.94L8.5 2.5l-.94 2.06-2.06.94zm10 10l.94 2.06.94-2.06 2.06-.94-2.06-.94-.94-2.06-.94 2.06-2.06.94z\"/><path d=\"M17.41 7.96l-1.37-1.37c-.4-.4-.92-.59-1.43-.59-.52 0-1.04.2-1.43.59L10.3 9.45l-7.72 7.72c-.78.78-.78 2.05 0 2.83L4 21.41c.39.39.9.59 1.41.59.51 0 1.02-.2 1.41-.59l7.78-7.78 2.81-2.81c.8-.78.8-2.07 0-2.86zM5.41 20L4 18.59l7.72-7.72 1.47 1.35L5.41 20z\"/>\n",
              "  </svg>\n",
              "      </button>\n",
              "      \n",
              "  <style>\n",
              "    .colab-df-container {\n",
              "      display:flex;\n",
              "      flex-wrap:wrap;\n",
              "      gap: 12px;\n",
              "    }\n",
              "\n",
              "    .colab-df-convert {\n",
              "      background-color: #E8F0FE;\n",
              "      border: none;\n",
              "      border-radius: 50%;\n",
              "      cursor: pointer;\n",
              "      display: none;\n",
              "      fill: #1967D2;\n",
              "      height: 32px;\n",
              "      padding: 0 0 0 0;\n",
              "      width: 32px;\n",
              "    }\n",
              "\n",
              "    .colab-df-convert:hover {\n",
              "      background-color: #E2EBFA;\n",
              "      box-shadow: 0px 1px 2px rgba(60, 64, 67, 0.3), 0px 1px 3px 1px rgba(60, 64, 67, 0.15);\n",
              "      fill: #174EA6;\n",
              "    }\n",
              "\n",
              "    [theme=dark] .colab-df-convert {\n",
              "      background-color: #3B4455;\n",
              "      fill: #D2E3FC;\n",
              "    }\n",
              "\n",
              "    [theme=dark] .colab-df-convert:hover {\n",
              "      background-color: #434B5C;\n",
              "      box-shadow: 0px 1px 3px 1px rgba(0, 0, 0, 0.15);\n",
              "      filter: drop-shadow(0px 1px 2px rgba(0, 0, 0, 0.3));\n",
              "      fill: #FFFFFF;\n",
              "    }\n",
              "  </style>\n",
              "\n",
              "      <script>\n",
              "        const buttonEl =\n",
              "          document.querySelector('#df-01e0467b-2ef6-4cc2-a699-823b4321c4ae button.colab-df-convert');\n",
              "        buttonEl.style.display =\n",
              "          google.colab.kernel.accessAllowed ? 'block' : 'none';\n",
              "\n",
              "        async function convertToInteractive(key) {\n",
              "          const element = document.querySelector('#df-01e0467b-2ef6-4cc2-a699-823b4321c4ae');\n",
              "          const dataTable =\n",
              "            await google.colab.kernel.invokeFunction('convertToInteractive',\n",
              "                                                     [key], {});\n",
              "          if (!dataTable) return;\n",
              "\n",
              "          const docLinkHtml = 'Like what you see? Visit the ' +\n",
              "            '<a target=\"_blank\" href=https://colab.research.google.com/notebooks/data_table.ipynb>data table notebook</a>'\n",
              "            + ' to learn more about interactive tables.';\n",
              "          element.innerHTML = '';\n",
              "          dataTable['output_type'] = 'display_data';\n",
              "          await google.colab.output.renderOutput(dataTable, element);\n",
              "          const docLink = document.createElement('div');\n",
              "          docLink.innerHTML = docLinkHtml;\n",
              "          element.appendChild(docLink);\n",
              "        }\n",
              "      </script>\n",
              "    </div>\n",
              "  </div>\n",
              "  "
            ]
          },
          "metadata": {},
          "execution_count": 11
        }
      ]
    },
    {
      "cell_type": "markdown",
      "source": [
        "The volume can be 100’s or millions of trades, and the price will most likely be in the thousand or below range.  \n",
        "The graph will be overwhelmed by those numbers, so we need to select data from the columns.\n"
      ],
      "metadata": {
        "id": "zuwrVoFm6BHK"
      }
    },
    {
      "cell_type": "code",
      "source": [
        "df.plot()"
      ],
      "metadata": {
        "colab": {
          "base_uri": "https://localhost:8080/",
          "height": 309
        },
        "id": "_s3yy65BJHax",
        "outputId": "7dab3ce9-0423-4a45-f8b4-eecc83a7870c"
      },
      "execution_count": 14,
      "outputs": [
        {
          "output_type": "execute_result",
          "data": {
            "text/plain": [
              "<matplotlib.axes._subplots.AxesSubplot at 0x7f99e84b3dd0>"
            ]
          },
          "metadata": {},
          "execution_count": 14
        },
        {
          "output_type": "display_data",
          "data": {
            "text/plain": [
              "<Figure size 432x288 with 1 Axes>"
            ],
            "image/png": "[encoded data removed]"
          },
          "metadata": {}
        }
      ]
    },
    {
      "cell_type": "code",
      "source": [
        "df['Close'].plot()\n",
        "#plt.show()\n"
      ],
      "metadata": {
        "colab": {
          "base_uri": "https://localhost:8080/",
          "height": 298
        },
        "id": "zRUumR15I5fZ",
        "outputId": "cdc95b70-f3fd-419f-8d82-9897ef1becdd"
      },
      "execution_count": 15,
      "outputs": [
        {
          "output_type": "execute_result",
          "data": {
            "text/plain": [
              "<matplotlib.axes._subplots.AxesSubplot at 0x7f99e83ab610>"
            ]
          },
          "metadata": {},
          "execution_count": 15
        },
        {
          "output_type": "display_data",
          "data": {
            "text/plain": [
              "<Figure size 432x288 with 1 Axes>"
            ],
            "image/png": "[encoded data removed]"
          },
          "metadata": {}
        }
      ]
    },
    {
      "cell_type": "markdown",
      "source": [
        "## 100 day Moving Average\n",
        "A moving average is a technique often used in technical analysis that smooths price histories by averaging daily prices over some period of time.\n",
        " We have already referenced columns in pandas using square brackets, here's an application to also make new ones.\n"
      ],
      "metadata": {
        "id": "OXa21-fT629C"
      }
    },
    {
      "cell_type": "code",
      "source": [
        "df['100ma'] = df['Close'].rolling(window=100).mean()"
      ],
      "metadata": {
        "id": "jAZZlZq-JTvs"
      },
      "execution_count": 17,
      "outputs": []
    },
    {
      "cell_type": "code",
      "source": [
        "df"
      ],
      "metadata": {
        "colab": {
          "base_uri": "https://localhost:8080/",
          "height": 455
        },
        "id": "lIVtqSn6JqhK",
        "outputId": "39f855ac-2870-48cb-8f1e-02edfe46d59f"
      },
      "execution_count": 18,
      "outputs": [
        {
          "output_type": "execute_result",
          "data": {
            "text/plain": [
              "              Open    High     Low   Close     Volume   100ma\n",
              "Date                                                         \n",
              "2022-11-15  195.88  200.82  192.06  194.42   91293785     NaN\n",
              "2022-11-14  192.77  195.73  186.34  190.95   92226649     NaN\n",
              "2022-11-11  186.00  196.52  182.59  195.97  114403575     NaN\n",
              "2022-11-10  189.90  191.00  180.03  190.72  132703015     NaN\n",
              "2022-11-09  190.78  195.89  177.12  177.59  127062659     NaN\n",
              "...            ...     ...     ...     ...        ...     ...\n",
              "2022-01-07  360.12  360.31  336.67  342.32   84164748  300.66\n",
              "2022-01-06  359.00  362.67  340.17  354.90   90336474  301.74\n",
              "2022-01-05  382.22  390.11  360.34  362.71   80119797  302.84\n",
              "2022-01-04  396.52  402.67  374.35  383.20  100248258  304.14\n",
              "2022-01-03  382.58  400.36  378.68  399.93  104686047  305.78\n",
              "\n",
              "[220 rows x 6 columns]"
            ],
            "text/html": [
              "\n",
              "  <div id=\"df-6d770dbd-464c-4ab2-aa8e-579ad7ac7e07\">\n",
              "    <div class=\"colab-df-container\">\n",
              "      <div>\n",
              "<style scoped>\n",
              "    .dataframe tbody tr th:only-of-type {\n",
              "        vertical-align: middle;\n",
              "    }\n",
              "\n",
              "    .dataframe tbody tr th {\n",
              "        vertical-align: top;\n",
              "    }\n",
              "\n",
              "    .dataframe thead th {\n",
              "        text-align: right;\n",
              "    }\n",
              "</style>\n",
              "<table border=\"1\" class=\"dataframe\">\n",
              "  <thead>\n",
              "    <tr style=\"text-align: right;\">\n",
              "      <th></th>\n",
              "      <th>Open</th>\n",
              "      <th>High</th>\n",
              "      <th>Low</th>\n",
              "      <th>Close</th>\n",
              "      <th>Volume</th>\n",
              "      <th>100ma</th>\n",
              "    </tr>\n",
              "    <tr>\n",
              "      <th>Date</th>\n",
              "      <th></th>\n",
              "      <th></th>\n",
              "      <th></th>\n",
              "      <th></th>\n",
              "      <th></th>\n",
              "      <th></th>\n",
              "    </tr>\n",
              "  </thead>\n",
              "  <tbody>\n",
              "    <tr>\n",
              "      <th>2022-11-15</th>\n",
              "      <td>195.88</td>\n",
              "      <td>200.82</td>\n",
              "      <td>192.06</td>\n",
              "      <td>194.42</td>\n",
              "      <td>91293785</td>\n",
              "      <td>NaN</td>\n",
              "    </tr>\n",
              "    <tr>\n",
              "      <th>2022-11-14</th>\n",
              "      <td>192.77</td>\n",
              "      <td>195.73</td>\n",
              "      <td>186.34</td>\n",
              "      <td>190.95</td>\n",
              "      <td>92226649</td>\n",
              "      <td>NaN</td>\n",
              "    </tr>\n",
              "    <tr>\n",
              "      <th>2022-11-11</th>\n",
              "      <td>186.00</td>\n",
              "      <td>196.52</td>\n",
              "      <td>182.59</td>\n",
              "      <td>195.97</td>\n",
              "      <td>114403575</td>\n",
              "      <td>NaN</td>\n",
              "    </tr>\n",
              "    <tr>\n",
              "      <th>2022-11-10</th>\n",
              "      <td>189.90</td>\n",
              "      <td>191.00</td>\n",
              "      <td>180.03</td>\n",
              "      <td>190.72</td>\n",
              "      <td>132703015</td>\n",
              "      <td>NaN</td>\n",
              "    </tr>\n",
              "    <tr>\n",
              "      <th>2022-11-09</th>\n",
              "      <td>190.78</td>\n",
              "      <td>195.89</td>\n",
              "      <td>177.12</td>\n",
              "      <td>177.59</td>\n",
              "      <td>127062659</td>\n",
              "      <td>NaN</td>\n",
              "    </tr>\n",
              "    <tr>\n",
              "      <th>...</th>\n",
              "      <td>...</td>\n",
              "      <td>...</td>\n",
              "      <td>...</td>\n",
              "      <td>...</td>\n",
              "      <td>...</td>\n",
              "      <td>...</td>\n",
              "    </tr>\n",
              "    <tr>\n",
              "      <th>2022-01-07</th>\n",
              "      <td>360.12</td>\n",
              "      <td>360.31</td>\n",
              "      <td>336.67</td>\n",
              "      <td>342.32</td>\n",
              "      <td>84164748</td>\n",
              "      <td>300.66</td>\n",
              "    </tr>\n",
              "    <tr>\n",
              "      <th>2022-01-06</th>\n",
              "      <td>359.00</td>\n",
              "      <td>362.67</td>\n",
              "      <td>340.17</td>\n",
              "      <td>354.90</td>\n",
              "      <td>90336474</td>\n",
              "      <td>301.74</td>\n",
              "    </tr>\n",
              "    <tr>\n",
              "      <th>2022-01-05</th>\n",
              "      <td>382.22</td>\n",
              "      <td>390.11</td>\n",
              "      <td>360.34</td>\n",
              "      <td>362.71</td>\n",
              "      <td>80119797</td>\n",
              "      <td>302.84</td>\n",
              "    </tr>\n",
              "    <tr>\n",
              "      <th>2022-01-04</th>\n",
              "      <td>396.52</td>\n",
              "      <td>402.67</td>\n",
              "      <td>374.35</td>\n",
              "      <td>383.20</td>\n",
              "      <td>100248258</td>\n",
              "      <td>304.14</td>\n",
              "    </tr>\n",
              "    <tr>\n",
              "      <th>2022-01-03</th>\n",
              "      <td>382.58</td>\n",
              "      <td>400.36</td>\n",
              "      <td>378.68</td>\n",
              "      <td>399.93</td>\n",
              "      <td>104686047</td>\n",
              "      <td>305.78</td>\n",
              "    </tr>\n",
              "  </tbody>\n",
              "</table>\n",
              "<p>220 rows × 6 columns</p>\n",
              "</div>\n",
              "      <button class=\"colab-df-convert\" onclick=\"convertToInteractive('df-6d770dbd-464c-4ab2-aa8e-579ad7ac7e07')\"\n",
              "              title=\"Convert this dataframe to an interactive table.\"\n",
              "              style=\"display:none;\">\n",
              "        \n",
              "  <svg xmlns=\"http://www.w3.org/2000/svg\" height=\"24px\"viewBox=\"0 0 24 24\"\n",
              "       width=\"24px\">\n",
              "    <path d=\"M0 0h24v24H0V0z\" fill=\"none\"/>\n",
              "    <path d=\"M18.56 5.44l.94 2.06.94-2.06 2.06-.94-2.06-.94-.94-2.06-.94 2.06-2.06.94zm-11 1L8.5 8.5l.94-2.06 2.06-.94-2.06-.94L8.5 2.5l-.94 2.06-2.06.94zm10 10l.94 2.06.94-2.06 2.06-.94-2.06-.94-.94-2.06-.94 2.06-2.06.94z\"/><path d=\"M17.41 7.96l-1.37-1.37c-.4-.4-.92-.59-1.43-.59-.52 0-1.04.2-1.43.59L10.3 9.45l-7.72 7.72c-.78.78-.78 2.05 0 2.83L4 21.41c.39.39.9.59 1.41.59.51 0 1.02-.2 1.41-.59l7.78-7.78 2.81-2.81c.8-.78.8-2.07 0-2.86zM5.41 20L4 18.59l7.72-7.72 1.47 1.35L5.41 20z\"/>\n",
              "  </svg>\n",
              "      </button>\n",
              "      \n",
              "  <style>\n",
              "    .colab-df-container {\n",
              "      display:flex;\n",
              "      flex-wrap:wrap;\n",
              "      gap: 12px;\n",
              "    }\n",
              "\n",
              "    .colab-df-convert {\n",
              "      background-color: #E8F0FE;\n",
              "      border: none;\n",
              "      border-radius: 50%;\n",
              "      cursor: pointer;\n",
              "      display: none;\n",
              "      fill: #1967D2;\n",
              "      height: 32px;\n",
              "      padding: 0 0 0 0;\n",
              "      width: 32px;\n",
              "    }\n",
              "\n",
              "    .colab-df-convert:hover {\n",
              "      background-color: #E2EBFA;\n",
              "      box-shadow: 0px 1px 2px rgba(60, 64, 67, 0.3), 0px 1px 3px 1px rgba(60, 64, 67, 0.15);\n",
              "      fill: #174EA6;\n",
              "    }\n",
              "\n",
              "    [theme=dark] .colab-df-convert {\n",
              "      background-color: #3B4455;\n",
              "      fill: #D2E3FC;\n",
              "    }\n",
              "\n",
              "    [theme=dark] .colab-df-convert:hover {\n",
              "      background-color: #434B5C;\n",
              "      box-shadow: 0px 1px 3px 1px rgba(0, 0, 0, 0.15);\n",
              "      filter: drop-shadow(0px 1px 2px rgba(0, 0, 0, 0.3));\n",
              "      fill: #FFFFFF;\n",
              "    }\n",
              "  </style>\n",
              "\n",
              "      <script>\n",
              "        const buttonEl =\n",
              "          document.querySelector('#df-6d770dbd-464c-4ab2-aa8e-579ad7ac7e07 button.colab-df-convert');\n",
              "        buttonEl.style.display =\n",
              "          google.colab.kernel.accessAllowed ? 'block' : 'none';\n",
              "\n",
              "        async function convertToInteractive(key) {\n",
              "          const element = document.querySelector('#df-6d770dbd-464c-4ab2-aa8e-579ad7ac7e07');\n",
              "          const dataTable =\n",
              "            await google.colab.kernel.invokeFunction('convertToInteractive',\n",
              "                                                     [key], {});\n",
              "          if (!dataTable) return;\n",
              "\n",
              "          const docLinkHtml = 'Like what you see? Visit the ' +\n",
              "            '<a target=\"_blank\" href=https://colab.research.google.com/notebooks/data_table.ipynb>data table notebook</a>'\n",
              "            + ' to learn more about interactive tables.';\n",
              "          element.innerHTML = '';\n",
              "          dataTable['output_type'] = 'display_data';\n",
              "          await google.colab.output.renderOutput(dataTable, element);\n",
              "          const docLink = document.createElement('div');\n",
              "          docLink.innerHTML = docLinkHtml;\n",
              "          element.appendChild(docLink);\n",
              "        }\n",
              "      </script>\n",
              "    </div>\n",
              "  </div>\n",
              "  "
            ]
          },
          "metadata": {},
          "execution_count": 18
        }
      ]
    },
    {
      "cell_type": "markdown",
      "source": [
        "If we try to check it by printing the head(), it won’t work, because there aren’t enough days to calculate the average.\n",
        "\n",
        "However: if we use **df.dropna(inplace=True)**, it allows us to drop the entire row that gives us NaN answers 'inplace' means we don’t have to redefine the  dataframe\n"
      ],
      "metadata": {
        "id": "MHQCuu-972I-"
      }
    },
    {
      "cell_type": "code",
      "source": [
        "df.dropna(inplace=True)"
      ],
      "metadata": {
        "id": "cSVrRumGJvSt"
      },
      "execution_count": null,
      "outputs": []
    },
    {
      "cell_type": "markdown",
      "source": [
        "Unfortunately, that starts our data 100 days into the year."
      ],
      "metadata": {
        "id": "JBwHEb2S8d1Q"
      }
    },
    {
      "cell_type": "code",
      "source": [
        "df"
      ],
      "metadata": {
        "colab": {
          "base_uri": "https://localhost:8080/",
          "height": 455
        },
        "id": "2tVlXBquJ4SG",
        "outputId": "6879c95c-183f-4f6b-a539-3d1af93e55a3"
      },
      "execution_count": null,
      "outputs": [
        {
          "output_type": "execute_result",
          "data": {
            "text/plain": [
              "              Open    High     Low   Close     Volume   100ma\n",
              "Date                                                         \n",
              "2022-06-24  237.47  246.07  236.09  245.71   95770695  257.59\n",
              "2022-06-23  237.91  239.32  228.64  235.07  104202678  258.03\n",
              "2022-06-22  234.50  246.83  233.83  236.09  101527260  258.43\n",
              "2022-06-21  224.60  243.58  224.33  237.04  122792955  258.89\n",
              "2022-06-17  213.43  220.97  213.20  216.76   92641770  259.29\n",
              "...            ...     ...     ...     ...        ...     ...\n",
              "2022-01-07  360.12  360.31  336.67  342.32   84164748  300.66\n",
              "2022-01-06  359.00  362.67  340.17  354.90   90336474  301.74\n",
              "2022-01-05  382.22  390.11  360.34  362.71   80119797  302.84\n",
              "2022-01-04  396.52  402.67  374.35  383.20  100248258  304.14\n",
              "2022-01-03  382.58  400.36  378.68  399.93  104686047  305.78\n",
              "\n",
              "[120 rows x 6 columns]"
            ],
            "text/html": [
              "\n",
              "  <div id=\"df-d799000f-8168-4790-b969-8c5feccea18d\">\n",
              "    <div class=\"colab-df-container\">\n",
              "      <div>\n",
              "<style scoped>\n",
              "    .dataframe tbody tr th:only-of-type {\n",
              "        vertical-align: middle;\n",
              "    }\n",
              "\n",
              "    .dataframe tbody tr th {\n",
              "        vertical-align: top;\n",
              "    }\n",
              "\n",
              "    .dataframe thead th {\n",
              "        text-align: right;\n",
              "    }\n",
              "</style>\n",
              "<table border=\"1\" class=\"dataframe\">\n",
              "  <thead>\n",
              "    <tr style=\"text-align: right;\">\n",
              "      <th></th>\n",
              "      <th>Open</th>\n",
              "      <th>High</th>\n",
              "      <th>Low</th>\n",
              "      <th>Close</th>\n",
              "      <th>Volume</th>\n",
              "      <th>100ma</th>\n",
              "    </tr>\n",
              "    <tr>\n",
              "      <th>Date</th>\n",
              "      <th></th>\n",
              "      <th></th>\n",
              "      <th></th>\n",
              "      <th></th>\n",
              "      <th></th>\n",
              "      <th></th>\n",
              "    </tr>\n",
              "  </thead>\n",
              "  <tbody>\n",
              "    <tr>\n",
              "      <th>2022-06-24</th>\n",
              "      <td>237.47</td>\n",
              "      <td>246.07</td>\n",
              "      <td>236.09</td>\n",
              "      <td>245.71</td>\n",
              "      <td>95770695</td>\n",
              "      <td>257.59</td>\n",
              "    </tr>\n",
              "    <tr>\n",
              "      <th>2022-06-23</th>\n",
              "      <td>237.91</td>\n",
              "      <td>239.32</td>\n",
              "      <td>228.64</td>\n",
              "      <td>235.07</td>\n",
              "      <td>104202678</td>\n",
              "      <td>258.03</td>\n",
              "    </tr>\n",
              "    <tr>\n",
              "      <th>2022-06-22</th>\n",
              "      <td>234.50</td>\n",
              "      <td>246.83</td>\n",
              "      <td>233.83</td>\n",
              "      <td>236.09</td>\n",
              "      <td>101527260</td>\n",
              "      <td>258.43</td>\n",
              "    </tr>\n",
              "    <tr>\n",
              "      <th>2022-06-21</th>\n",
              "      <td>224.60</td>\n",
              "      <td>243.58</td>\n",
              "      <td>224.33</td>\n",
              "      <td>237.04</td>\n",
              "      <td>122792955</td>\n",
              "      <td>258.89</td>\n",
              "    </tr>\n",
              "    <tr>\n",
              "      <th>2022-06-17</th>\n",
              "      <td>213.43</td>\n",
              "      <td>220.97</td>\n",
              "      <td>213.20</td>\n",
              "      <td>216.76</td>\n",
              "      <td>92641770</td>\n",
              "      <td>259.29</td>\n",
              "    </tr>\n",
              "    <tr>\n",
              "      <th>...</th>\n",
              "      <td>...</td>\n",
              "      <td>...</td>\n",
              "      <td>...</td>\n",
              "      <td>...</td>\n",
              "      <td>...</td>\n",
              "      <td>...</td>\n",
              "    </tr>\n",
              "    <tr>\n",
              "      <th>2022-01-07</th>\n",
              "      <td>360.12</td>\n",
              "      <td>360.31</td>\n",
              "      <td>336.67</td>\n",
              "      <td>342.32</td>\n",
              "      <td>84164748</td>\n",
              "      <td>300.66</td>\n",
              "    </tr>\n",
              "    <tr>\n",
              "      <th>2022-01-06</th>\n",
              "      <td>359.00</td>\n",
              "      <td>362.67</td>\n",
              "      <td>340.17</td>\n",
              "      <td>354.90</td>\n",
              "      <td>90336474</td>\n",
              "      <td>301.74</td>\n",
              "    </tr>\n",
              "    <tr>\n",
              "      <th>2022-01-05</th>\n",
              "      <td>382.22</td>\n",
              "      <td>390.11</td>\n",
              "      <td>360.34</td>\n",
              "      <td>362.71</td>\n",
              "      <td>80119797</td>\n",
              "      <td>302.84</td>\n",
              "    </tr>\n",
              "    <tr>\n",
              "      <th>2022-01-04</th>\n",
              "      <td>396.52</td>\n",
              "      <td>402.67</td>\n",
              "      <td>374.35</td>\n",
              "      <td>383.20</td>\n",
              "      <td>100248258</td>\n",
              "      <td>304.14</td>\n",
              "    </tr>\n",
              "    <tr>\n",
              "      <th>2022-01-03</th>\n",
              "      <td>382.58</td>\n",
              "      <td>400.36</td>\n",
              "      <td>378.68</td>\n",
              "      <td>399.93</td>\n",
              "      <td>104686047</td>\n",
              "      <td>305.78</td>\n",
              "    </tr>\n",
              "  </tbody>\n",
              "</table>\n",
              "<p>120 rows × 6 columns</p>\n",
              "</div>\n",
              "      <button class=\"colab-df-convert\" onclick=\"convertToInteractive('df-d799000f-8168-4790-b969-8c5feccea18d')\"\n",
              "              title=\"Convert this dataframe to an interactive table.\"\n",
              "              style=\"display:none;\">\n",
              "        \n",
              "  <svg xmlns=\"http://www.w3.org/2000/svg\" height=\"24px\"viewBox=\"0 0 24 24\"\n",
              "       width=\"24px\">\n",
              "    <path d=\"M0 0h24v24H0V0z\" fill=\"none\"/>\n",
              "    <path d=\"M18.56 5.44l.94 2.06.94-2.06 2.06-.94-2.06-.94-.94-2.06-.94 2.06-2.06.94zm-11 1L8.5 8.5l.94-2.06 2.06-.94-2.06-.94L8.5 2.5l-.94 2.06-2.06.94zm10 10l.94 2.06.94-2.06 2.06-.94-2.06-.94-.94-2.06-.94 2.06-2.06.94z\"/><path d=\"M17.41 7.96l-1.37-1.37c-.4-.4-.92-.59-1.43-.59-.52 0-1.04.2-1.43.59L10.3 9.45l-7.72 7.72c-.78.78-.78 2.05 0 2.83L4 21.41c.39.39.9.59 1.41.59.51 0 1.02-.2 1.41-.59l7.78-7.78 2.81-2.81c.8-.78.8-2.07 0-2.86zM5.41 20L4 18.59l7.72-7.72 1.47 1.35L5.41 20z\"/>\n",
              "  </svg>\n",
              "      </button>\n",
              "      \n",
              "  <style>\n",
              "    .colab-df-container {\n",
              "      display:flex;\n",
              "      flex-wrap:wrap;\n",
              "      gap: 12px;\n",
              "    }\n",
              "\n",
              "    .colab-df-convert {\n",
              "      background-color: #E8F0FE;\n",
              "      border: none;\n",
              "      border-radius: 50%;\n",
              "      cursor: pointer;\n",
              "      display: none;\n",
              "      fill: #1967D2;\n",
              "      height: 32px;\n",
              "      padding: 0 0 0 0;\n",
              "      width: 32px;\n",
              "    }\n",
              "\n",
              "    .colab-df-convert:hover {\n",
              "      background-color: #E2EBFA;\n",
              "      box-shadow: 0px 1px 2px rgba(60, 64, 67, 0.3), 0px 1px 3px 1px rgba(60, 64, 67, 0.15);\n",
              "      fill: #174EA6;\n",
              "    }\n",
              "\n",
              "    [theme=dark] .colab-df-convert {\n",
              "      background-color: #3B4455;\n",
              "      fill: #D2E3FC;\n",
              "    }\n",
              "\n",
              "    [theme=dark] .colab-df-convert:hover {\n",
              "      background-color: #434B5C;\n",
              "      box-shadow: 0px 1px 3px 1px rgba(0, 0, 0, 0.15);\n",
              "      filter: drop-shadow(0px 1px 2px rgba(0, 0, 0, 0.3));\n",
              "      fill: #FFFFFF;\n",
              "    }\n",
              "  </style>\n",
              "\n",
              "      <script>\n",
              "        const buttonEl =\n",
              "          document.querySelector('#df-d799000f-8168-4790-b969-8c5feccea18d button.colab-df-convert');\n",
              "        buttonEl.style.display =\n",
              "          google.colab.kernel.accessAllowed ? 'block' : 'none';\n",
              "\n",
              "        async function convertToInteractive(key) {\n",
              "          const element = document.querySelector('#df-d799000f-8168-4790-b969-8c5feccea18d');\n",
              "          const dataTable =\n",
              "            await google.colab.kernel.invokeFunction('convertToInteractive',\n",
              "                                                     [key], {});\n",
              "          if (!dataTable) return;\n",
              "\n",
              "          const docLinkHtml = 'Like what you see? Visit the ' +\n",
              "            '<a target=\"_blank\" href=https://colab.research.google.com/notebooks/data_table.ipynb>data table notebook</a>'\n",
              "            + ' to learn more about interactive tables.';\n",
              "          element.innerHTML = '';\n",
              "          dataTable['output_type'] = 'display_data';\n",
              "          await google.colab.output.renderOutput(dataTable, element);\n",
              "          const docLink = document.createElement('div');\n",
              "          docLink.innerHTML = docLinkHtml;\n",
              "          element.appendChild(docLink);\n",
              "        }\n",
              "      </script>\n",
              "    </div>\n",
              "  </div>\n",
              "  "
            ]
          },
          "metadata": {},
          "execution_count": 15
        }
      ]
    },
    {
      "cell_type": "markdown",
      "source": [
        "We can also adjust the dates for calculation with min_periods = 0, but the data will not be reliable for the first 99 days. \n",
        "Which will look like:\n"
      ],
      "metadata": {
        "id": "lfHIGvWL8w_o"
      }
    },
    {
      "cell_type": "code",
      "source": [
        "df['100ma'] = df['Close'].rolling(window=100, min_periods = 0 ).mean()\n",
        "df"
      ],
      "metadata": {
        "id": "RnnSlZadJ5pW",
        "colab": {
          "base_uri": "https://localhost:8080/",
          "height": 455
        },
        "outputId": "53a757e9-fe96-4751-cc08-f553c0154696"
      },
      "execution_count": 19,
      "outputs": [
        {
          "output_type": "execute_result",
          "data": {
            "text/plain": [
              "              Open    High     Low   Close     Volume   100ma\n",
              "Date                                                         \n",
              "2022-11-15  195.88  200.82  192.06  194.42   91293785  194.42\n",
              "2022-11-14  192.77  195.73  186.34  190.95   92226649  192.69\n",
              "2022-11-11  186.00  196.52  182.59  195.97  114403575  193.78\n",
              "2022-11-10  189.90  191.00  180.03  190.72  132703015  193.01\n",
              "2022-11-09  190.78  195.89  177.12  177.59  127062659  189.93\n",
              "...            ...     ...     ...     ...        ...     ...\n",
              "2022-01-07  360.12  360.31  336.67  342.32   84164748  300.66\n",
              "2022-01-06  359.00  362.67  340.17  354.90   90336474  301.74\n",
              "2022-01-05  382.22  390.11  360.34  362.71   80119797  302.84\n",
              "2022-01-04  396.52  402.67  374.35  383.20  100248258  304.14\n",
              "2022-01-03  382.58  400.36  378.68  399.93  104686047  305.78\n",
              "\n",
              "[220 rows x 6 columns]"
            ],
            "text/html": [
              "\n",
              "  <div id=\"df-4f971def-636d-4f1c-81f1-6f60d98d5af8\">\n",
              "    <div class=\"colab-df-container\">\n",
              "      <div>\n",
              "<style scoped>\n",
              "    .dataframe tbody tr th:only-of-type {\n",
              "        vertical-align: middle;\n",
              "    }\n",
              "\n",
              "    .dataframe tbody tr th {\n",
              "        vertical-align: top;\n",
              "    }\n",
              "\n",
              "    .dataframe thead th {\n",
              "        text-align: right;\n",
              "    }\n",
              "</style>\n",
              "<table border=\"1\" class=\"dataframe\">\n",
              "  <thead>\n",
              "    <tr style=\"text-align: right;\">\n",
              "      <th></th>\n",
              "      <th>Open</th>\n",
              "      <th>High</th>\n",
              "      <th>Low</th>\n",
              "      <th>Close</th>\n",
              "      <th>Volume</th>\n",
              "      <th>100ma</th>\n",
              "    </tr>\n",
              "    <tr>\n",
              "      <th>Date</th>\n",
              "      <th></th>\n",
              "      <th></th>\n",
              "      <th></th>\n",
              "      <th></th>\n",
              "      <th></th>\n",
              "      <th></th>\n",
              "    </tr>\n",
              "  </thead>\n",
              "  <tbody>\n",
              "    <tr>\n",
              "      <th>2022-11-15</th>\n",
              "      <td>195.88</td>\n",
              "      <td>200.82</td>\n",
              "      <td>192.06</td>\n",
              "      <td>194.42</td>\n",
              "      <td>91293785</td>\n",
              "      <td>194.42</td>\n",
              "    </tr>\n",
              "    <tr>\n",
              "      <th>2022-11-14</th>\n",
              "      <td>192.77</td>\n",
              "      <td>195.73</td>\n",
              "      <td>186.34</td>\n",
              "      <td>190.95</td>\n",
              "      <td>92226649</td>\n",
              "      <td>192.69</td>\n",
              "    </tr>\n",
              "    <tr>\n",
              "      <th>2022-11-11</th>\n",
              "      <td>186.00</td>\n",
              "      <td>196.52</td>\n",
              "      <td>182.59</td>\n",
              "      <td>195.97</td>\n",
              "      <td>114403575</td>\n",
              "      <td>193.78</td>\n",
              "    </tr>\n",
              "    <tr>\n",
              "      <th>2022-11-10</th>\n",
              "      <td>189.90</td>\n",
              "      <td>191.00</td>\n",
              "      <td>180.03</td>\n",
              "      <td>190.72</td>\n",
              "      <td>132703015</td>\n",
              "      <td>193.01</td>\n",
              "    </tr>\n",
              "    <tr>\n",
              "      <th>2022-11-09</th>\n",
              "      <td>190.78</td>\n",
              "      <td>195.89</td>\n",
              "      <td>177.12</td>\n",
              "      <td>177.59</td>\n",
              "      <td>127062659</td>\n",
              "      <td>189.93</td>\n",
              "    </tr>\n",
              "    <tr>\n",
              "      <th>...</th>\n",
              "      <td>...</td>\n",
              "      <td>...</td>\n",
              "      <td>...</td>\n",
              "      <td>...</td>\n",
              "      <td>...</td>\n",
              "      <td>...</td>\n",
              "    </tr>\n",
              "    <tr>\n",
              "      <th>2022-01-07</th>\n",
              "      <td>360.12</td>\n",
              "      <td>360.31</td>\n",
              "      <td>336.67</td>\n",
              "      <td>342.32</td>\n",
              "      <td>84164748</td>\n",
              "      <td>300.66</td>\n",
              "    </tr>\n",
              "    <tr>\n",
              "      <th>2022-01-06</th>\n",
              "      <td>359.00</td>\n",
              "      <td>362.67</td>\n",
              "      <td>340.17</td>\n",
              "      <td>354.90</td>\n",
              "      <td>90336474</td>\n",
              "      <td>301.74</td>\n",
              "    </tr>\n",
              "    <tr>\n",
              "      <th>2022-01-05</th>\n",
              "      <td>382.22</td>\n",
              "      <td>390.11</td>\n",
              "      <td>360.34</td>\n",
              "      <td>362.71</td>\n",
              "      <td>80119797</td>\n",
              "      <td>302.84</td>\n",
              "    </tr>\n",
              "    <tr>\n",
              "      <th>2022-01-04</th>\n",
              "      <td>396.52</td>\n",
              "      <td>402.67</td>\n",
              "      <td>374.35</td>\n",
              "      <td>383.20</td>\n",
              "      <td>100248258</td>\n",
              "      <td>304.14</td>\n",
              "    </tr>\n",
              "    <tr>\n",
              "      <th>2022-01-03</th>\n",
              "      <td>382.58</td>\n",
              "      <td>400.36</td>\n",
              "      <td>378.68</td>\n",
              "      <td>399.93</td>\n",
              "      <td>104686047</td>\n",
              "      <td>305.78</td>\n",
              "    </tr>\n",
              "  </tbody>\n",
              "</table>\n",
              "<p>220 rows × 6 columns</p>\n",
              "</div>\n",
              "      <button class=\"colab-df-convert\" onclick=\"convertToInteractive('df-4f971def-636d-4f1c-81f1-6f60d98d5af8')\"\n",
              "              title=\"Convert this dataframe to an interactive table.\"\n",
              "              style=\"display:none;\">\n",
              "        \n",
              "  <svg xmlns=\"http://www.w3.org/2000/svg\" height=\"24px\"viewBox=\"0 0 24 24\"\n",
              "       width=\"24px\">\n",
              "    <path d=\"M0 0h24v24H0V0z\" fill=\"none\"/>\n",
              "    <path d=\"M18.56 5.44l.94 2.06.94-2.06 2.06-.94-2.06-.94-.94-2.06-.94 2.06-2.06.94zm-11 1L8.5 8.5l.94-2.06 2.06-.94-2.06-.94L8.5 2.5l-.94 2.06-2.06.94zm10 10l.94 2.06.94-2.06 2.06-.94-2.06-.94-.94-2.06-.94 2.06-2.06.94z\"/><path d=\"M17.41 7.96l-1.37-1.37c-.4-.4-.92-.59-1.43-.59-.52 0-1.04.2-1.43.59L10.3 9.45l-7.72 7.72c-.78.78-.78 2.05 0 2.83L4 21.41c.39.39.9.59 1.41.59.51 0 1.02-.2 1.41-.59l7.78-7.78 2.81-2.81c.8-.78.8-2.07 0-2.86zM5.41 20L4 18.59l7.72-7.72 1.47 1.35L5.41 20z\"/>\n",
              "  </svg>\n",
              "      </button>\n",
              "      \n",
              "  <style>\n",
              "    .colab-df-container {\n",
              "      display:flex;\n",
              "      flex-wrap:wrap;\n",
              "      gap: 12px;\n",
              "    }\n",
              "\n",
              "    .colab-df-convert {\n",
              "      background-color: #E8F0FE;\n",
              "      border: none;\n",
              "      border-radius: 50%;\n",
              "      cursor: pointer;\n",
              "      display: none;\n",
              "      fill: #1967D2;\n",
              "      height: 32px;\n",
              "      padding: 0 0 0 0;\n",
              "      width: 32px;\n",
              "    }\n",
              "\n",
              "    .colab-df-convert:hover {\n",
              "      background-color: #E2EBFA;\n",
              "      box-shadow: 0px 1px 2px rgba(60, 64, 67, 0.3), 0px 1px 3px 1px rgba(60, 64, 67, 0.15);\n",
              "      fill: #174EA6;\n",
              "    }\n",
              "\n",
              "    [theme=dark] .colab-df-convert {\n",
              "      background-color: #3B4455;\n",
              "      fill: #D2E3FC;\n",
              "    }\n",
              "\n",
              "    [theme=dark] .colab-df-convert:hover {\n",
              "      background-color: #434B5C;\n",
              "      box-shadow: 0px 1px 3px 1px rgba(0, 0, 0, 0.15);\n",
              "      filter: drop-shadow(0px 1px 2px rgba(0, 0, 0, 0.3));\n",
              "      fill: #FFFFFF;\n",
              "    }\n",
              "  </style>\n",
              "\n",
              "      <script>\n",
              "        const buttonEl =\n",
              "          document.querySelector('#df-4f971def-636d-4f1c-81f1-6f60d98d5af8 button.colab-df-convert');\n",
              "        buttonEl.style.display =\n",
              "          google.colab.kernel.accessAllowed ? 'block' : 'none';\n",
              "\n",
              "        async function convertToInteractive(key) {\n",
              "          const element = document.querySelector('#df-4f971def-636d-4f1c-81f1-6f60d98d5af8');\n",
              "          const dataTable =\n",
              "            await google.colab.kernel.invokeFunction('convertToInteractive',\n",
              "                                                     [key], {});\n",
              "          if (!dataTable) return;\n",
              "\n",
              "          const docLinkHtml = 'Like what you see? Visit the ' +\n",
              "            '<a target=\"_blank\" href=https://colab.research.google.com/notebooks/data_table.ipynb>data table notebook</a>'\n",
              "            + ' to learn more about interactive tables.';\n",
              "          element.innerHTML = '';\n",
              "          dataTable['output_type'] = 'display_data';\n",
              "          await google.colab.output.renderOutput(dataTable, element);\n",
              "          const docLink = document.createElement('div');\n",
              "          docLink.innerHTML = docLinkHtml;\n",
              "          element.appendChild(docLink);\n",
              "        }\n",
              "      </script>\n",
              "    </div>\n",
              "  </div>\n",
              "  "
            ]
          },
          "metadata": {},
          "execution_count": 19
        }
      ]
    },
    {
      "cell_type": "code",
      "source": [
        "df['100ma'].plot()\n",
        "plt.title('100 Day Simple moving average');"
      ],
      "metadata": {
        "colab": {
          "base_uri": "https://localhost:8080/",
          "height": 297
        },
        "id": "Ztkvya57KIEn",
        "outputId": "bfcf5af1-83a2-4369-b60e-51f185e817dd"
      },
      "execution_count": 21,
      "outputs": [
        {
          "output_type": "display_data",
          "data": {
            "text/plain": [
              "<Figure size 432x288 with 1 Axes>"
            ],
            "image/png": "[encoded data removed]"
          },
          "metadata": {}
        }
      ]
    },
    {
      "cell_type": "markdown",
      "source": [
        "Let's put the together and see what they look like."
      ],
      "metadata": {
        "id": "m33OfVcU974R"
      }
    },
    {
      "cell_type": "code",
      "source": [
        "#The size for our chart:\n",
        "plt.figure(figsize = (12,6))\n",
        "#Plotting Close and SMA lines:\n",
        "plt.plot(df['Close'], label='TESLA Adj Close', linewidth = 2)\n",
        "plt.plot(df['100ma'], label='100 day rolling SMA', linewidth = 1.5)\n",
        "\n",
        "#Adding title and labels on the axes, making legend visible:\n",
        "plt.xlabel('Date')\n",
        "plt.ylabel('Adjusted closing price ($)')\n",
        "plt.title('Price with a single Simple Moving Average')\n",
        "plt.legend();\n"
      ],
      "metadata": {
        "colab": {
          "base_uri": "https://localhost:8080/",
          "height": 408
        },
        "id": "j9AeBCsdKI5N",
        "outputId": "0fe947e3-0622-4d03-8690-0a6899ae881d"
      },
      "execution_count": 25,
      "outputs": [
        {
          "output_type": "display_data",
          "data": {
            "text/plain": [
              "<Figure size 864x432 with 1 Axes>"
            ],
            "image/png": "[encoded data removed]"
          },
          "metadata": {}
        }
      ]
    },
    {
      "cell_type": "markdown",
      "source": [
        "Looks pretty good, but we'll need to add the Volume numbers to give it some context."
      ],
      "metadata": {
        "id": "Ab6xMTfA-d-k"
      }
    },
    {
      "cell_type": "markdown",
      "source": [
        "## Adding another graph\n",
        "*   We now have a good enough picture of the basics that we can explore the most effective ways to represent data visually.\n",
        "*   We can contrast with different types of plotting for different categories of data.\n",
        "*   As the final report requires five years of data, we may need to resample to make the project more manageable.\n",
        "*   It may even be to our advantage to use different styles from matplotlib.\n",
        "\n",
        "\n",
        "\n",
        "\n"
      ],
      "metadata": {
        "id": "cEla9Qio_ifn"
      }
    },
    {
      "cell_type": "markdown",
      "source": [
        "*   Plotting matplotlib figures create subplots, known as axes:\n",
        "*   Lets create a grid and name it **ax1** that's 8 rows by 1 column, and  starts at 0,0, spans 5 rows and 1 column"
      ],
      "metadata": {
        "id": "ZTpj-mmyAYYO"
      }
    },
    {
      "cell_type": "code",
      "source": [
        "ax1= plt.subplot2grid((8,1), (0,0), rowspan = 5, colspan =1) \n"
      ],
      "metadata": {
        "colab": {
          "base_uri": "https://localhost:8080/",
          "height": 186
        },
        "id": "kMgKO6NYMjao",
        "outputId": "2db96862-6977-48aa-aef3-e505fa3d0698"
      },
      "execution_count": 31,
      "outputs": [
        {
          "output_type": "display_data",
          "data": {
            "text/plain": [
              "<Figure size 432x288 with 1 Axes>"
            ],
            "image/png": "[encoded data removed]"
          },
          "metadata": {}
        }
      ]
    },
    {
      "cell_type": "markdown",
      "source": [
        "The code below creates another axis named **ax2** that starts at row 6 and only spans 1 row"
      ],
      "metadata": {
        "id": "0-uBPinbCkwy"
      }
    },
    {
      "cell_type": "code",
      "source": [
        "ax2= plt.subplot2grid((8,1), (6,0), rowspan = 1, colspan =1) "
      ],
      "metadata": {
        "colab": {
          "base_uri": "https://localhost:8080/",
          "height": 75
        },
        "id": "0dbQF6BVA84w",
        "outputId": "8382e11a-6ab2-4450-c2ab-aea4cdf2f579"
      },
      "execution_count": 32,
      "outputs": [
        {
          "output_type": "display_data",
          "data": {
            "text/plain": [
              "<Figure size 432x288 with 1 Axes>"
            ],
            "image/png": "[encoded data removed]"
          },
          "metadata": {}
        }
      ]
    },
    {
      "cell_type": "markdown",
      "source": [
        "Now we can plot our data by giving matplotlib the x and y coordinates from our dataframe. \n",
        "\n",
        "In our case, we want to use the date, which is the index column, as well as the Close column.\n",
        "\n",
        "ax1.plot(df.index, df['Close'])\n",
        "\n",
        "And the 100 day moving average to compare the graphs:\n",
        "\n",
        "ax1.plot(df.index, df['100ma'])\n",
        "\n",
        "We can also use a second set of data and a different graph type for the volume numbers:\n",
        "\n",
        "ax2.bar(df.index, df['Volume'])\n"
      ],
      "metadata": {
        "id": "FnUYoWShDb6b"
      }
    },
    {
      "cell_type": "code",
      "source": [
        "ax1.plot(df.index, df['Close'])\n",
        "ax1.plot(df.index, df['100ma'])\n",
        "ax2.bar(df.index, df['Volume'])\n",
        "\n"
      ],
      "metadata": {
        "colab": {
          "base_uri": "https://localhost:8080/"
        },
        "id": "dFepdTqHKclg",
        "outputId": "edfb4d5b-0fec-4483-e2d7-6293a0468a89"
      },
      "execution_count": 35,
      "outputs": [
        {
          "output_type": "execute_result",
          "data": {
            "text/plain": [
              "<BarContainer object of 220 artists>"
            ]
          },
          "metadata": {},
          "execution_count": 35
        }
      ]
    },
    {
      "cell_type": "markdown",
      "source": [
        "In order to synchronize the two graphs we can add a share command to the second plot.\n",
        "\n",
        "They don’t actually share the same x-axis but if you zoom in on one graph, it stays in synch with the other as well."
      ],
      "metadata": {
        "id": "AOOgxCzMEdn8"
      }
    },
    {
      "cell_type": "code",
      "source": [
        "ax2 =plt.subplot2grid((8,1), (5,0), rowspan=1, colspan=1, sharex=ax1)\n"
      ],
      "metadata": {
        "colab": {
          "base_uri": "https://localhost:8080/",
          "height": 75
        },
        "id": "yUVPkT-yEWzU",
        "outputId": "fdbbacc6-2a67-42ab-b8c7-ae90a825c4cb"
      },
      "execution_count": 36,
      "outputs": [
        {
          "output_type": "display_data",
          "data": {
            "text/plain": [
              "<Figure size 432x288 with 1 Axes>"
            ],
            "image/png": "[encoded data removed]"
          },
          "metadata": {}
        }
      ]
    },
    {
      "cell_type": "markdown",
      "source": [
        "# Combined Graph\n",
        "We'll redraw the graph with all the data..."
      ],
      "metadata": {
        "id": "8gaTaiOsE-j1"
      }
    },
    {
      "cell_type": "code",
      "source": [
        "#The size for our chart:\n",
        "plt.figure(figsize = (12,6))\n",
        "#Plotting Adj Close and SMA lines:\n",
        "ax1 = plt.subplot2grid((8,1),(0,0),rowspan=5,colspan=1)\n",
        "ax2 = plt.subplot2grid((8,1),(6,0),rowspan=3,colspan=1, sharex=ax1)\n",
        "\n",
        "ax1.plot(df.index,df['Close'], 'r',label='Adjusted Close')\n",
        "ax1.plot(df.index,df['100ma'], 'g', label= \"100 Moving Average\")\n",
        "plt.xlabel('Date')\n",
        "#ax1.set_xlabel('Date')\n",
        "ax1.set_ylabel('Adjusted closing price ($)')\n",
        "ax1.set_title('Adjusted Close and 100 day Moving Average for TSLA')\n",
        "ax1.legend()\n",
        "\n",
        "ax2.bar(df.index,df['Volume'], label = \"Volume\", color='b')\n",
        "ax2.legend()\n",
        "\n",
        "plt.show()\n"
      ],
      "metadata": {
        "colab": {
          "base_uri": "https://localhost:8080/",
          "height": 408
        },
        "id": "7vuyJW9yK59D",
        "outputId": "6f9be505-c60d-4136-c92e-2bc771613615"
      },
      "execution_count": 29,
      "outputs": [
        {
          "output_type": "display_data",
          "data": {
            "text/plain": [
              "<Figure size 864x432 with 2 Axes>"
            ],
            "image/png": "[encoded data removed]"
          },
          "metadata": {}
        }
      ]
    },
    {
      "cell_type": "markdown",
      "source": [
        "Candlestick Charts"
      ],
      "metadata": {
        "id": "6ieECfScFUj-"
      }
    },
    {
      "cell_type": "code",
      "source": [
        "! pip install mplfinance"
      ],
      "metadata": {
        "colab": {
          "base_uri": "https://localhost:8080/"
        },
        "id": "LBNctUgCMzT4",
        "outputId": "ef997cf5-2b7e-4333-e08c-84fcd5a767f3"
      },
      "execution_count": 37,
      "outputs": [
        {
          "output_type": "stream",
          "name": "stdout",
          "text": [
            "Looking in indexes: https://pypi.org/simple, https://us-python.pkg.dev/colab-wheels/public/simple/\n",
            "Collecting mplfinance\n",
            "  Downloading mplfinance-0.12.9b5-py3-none-any.whl (71 kB)\n",
            "\u001b[K     |████████████████████████████████| 71 kB 4.0 MB/s \n",
            "\u001b[?25hRequirement already satisfied: matplotlib in /usr/local/lib/python3.7/dist-packages (from mplfinance) (3.2.2)\n",
            "Requirement already satisfied: pandas in /usr/local/lib/python3.7/dist-packages (from mplfinance) (1.3.5)\n",
            "Requirement already satisfied: numpy>=1.11 in /usr/local/lib/python3.7/dist-packages (from matplotlib->mplfinance) (1.21.6)\n",
            "Requirement already satisfied: python-dateutil>=2.1 in /usr/local/lib/python3.7/dist-packages (from matplotlib->mplfinance) (2.8.2)\n",
            "Requirement already satisfied: pyparsing!=2.0.4,!=2.1.2,!=2.1.6,>=2.0.1 in /usr/local/lib/python3.7/dist-packages (from matplotlib->mplfinance) (3.0.9)\n",
            "Requirement already satisfied: kiwisolver>=1.0.1 in /usr/local/lib/python3.7/dist-packages (from matplotlib->mplfinance) (1.4.4)\n",
            "Requirement already satisfied: cycler>=0.10 in /usr/local/lib/python3.7/dist-packages (from matplotlib->mplfinance) (0.11.0)\n",
            "Requirement already satisfied: typing-extensions in /usr/local/lib/python3.7/dist-packages (from kiwisolver>=1.0.1->matplotlib->mplfinance) (4.1.1)\n",
            "Requirement already satisfied: six>=1.5 in /usr/local/lib/python3.7/dist-packages (from python-dateutil>=2.1->matplotlib->mplfinance) (1.15.0)\n",
            "Requirement already satisfied: pytz>=2017.3 in /usr/local/lib/python3.7/dist-packages (from pandas->mplfinance) (2022.6)\n",
            "Installing collected packages: mplfinance\n",
            "Successfully installed mplfinance-0.12.9b5\n"
          ]
        }
      ]
    },
    {
      "cell_type": "code",
      "source": [
        "from mplfinance.original_flavor import candlestick_ohlc\n",
        "import matplotlib.dates as mdates"
      ],
      "metadata": {
        "id": "9BoWtz6kLH-Q"
      },
      "execution_count": 38,
      "outputs": []
    },
    {
      "cell_type": "code",
      "source": [
        "#The size for our chart:\n",
        "plt.figure(figsize = (12,6))\n",
        "\n",
        "df_ohlc = df['Close'].resample('10D').ohlc()\n",
        "df_volume = df['Volume']. resample('10D').sum()\n",
        "\n",
        "df_ohlc.reset_index(inplace=True)\n",
        "df_ohlc['Date'] =df_ohlc['Date'].map(mdates.date2num)\n",
        "\n",
        "ax1 =plt.subplot2grid((10,1), (0,0), rowspan=5, colspan=1)\n",
        "ax2 =plt.subplot2grid((10,1), (5,0), rowspan=3, colspan=1, sharex=ax1)\n",
        "ax1.xaxis_date()\n",
        "\n",
        "candlestick_ohlc(ax1, df_ohlc.values, width=2, colorup='g')\n",
        "ax2.fill_between(df_volume.index.map(mdates.date2num),df_volume.values,0)\n",
        "plt.show()\n"
      ],
      "metadata": {
        "colab": {
          "base_uri": "https://localhost:8080/",
          "height": 308
        },
        "id": "HKpOtdpuMs8N",
        "outputId": "d6dd34e6-4cfd-421b-b33c-1190dd995b52"
      },
      "execution_count": 39,
      "outputs": [
        {
          "output_type": "display_data",
          "data": {
            "text/plain": [
              "<Figure size 864x432 with 2 Axes>"
            ],
            "image/png": "[encoded data removed]"
          },
          "metadata": {}
        }
      ]
    },
    {
      "cell_type": "code",
      "source": [],
      "metadata": {
        "id": "9qLSushqNr4k"
      },
      "execution_count": null,
      "outputs": []
    }
  ]
}