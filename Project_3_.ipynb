{
  "nbformat": 4,
  "nbformat_minor": 5,
  "metadata": {
    "kernelspec": {
      "display_name": "Python 3",
      "language": "python",
      "name": "python3"
    },
    "language_info": {
      "codemirror_mode": {
        "name": "ipython",
        "version": 3
      },
      "file_extension": ".py",
      "mimetype": "text/x-python",
      "name": "python",
      "nbconvert_exporter": "python",
      "pygments_lexer": "ipython3",
      "version": "3.8.8"
    },
    "colab": {
      "name": "Project 3 .ipynb",
      "provenance": [],
      "include_colab_link": true
    }
  },
  "cells": [
    {
      "cell_type": "markdown",
      "metadata": {
        "id": "view-in-github",
        "colab_type": "text"
      },
      "source": [
        "<a href=\"https://colab.research.google.com/github/aak29/aak29/blob/main/Project_3_.ipynb\" target=\"_parent\"><img src=\"https://colab.research.google.com/assets/colab-badge.svg\" alt=\"Open In Colab\"/></a>"
      ]
    },
    {
      "cell_type": "markdown",
      "metadata": {
        "id": "08352797"
      },
      "source": [
        "## Project 3"
      ],
      "id": "08352797"
    },
    {
      "cell_type": "markdown",
      "metadata": {
        "id": "93e020b4"
      },
      "source": [
        "Student Name:\n",
        "\n",
        "(Double click the cell below to enter your name)\n"
      ],
      "id": "93e020b4"
    },
    {
      "cell_type": "markdown",
      "metadata": {
        "id": "cd5df107"
      },
      "source": [
        ""
      ],
      "id": "cd5df107"
    },
    {
      "cell_type": "markdown",
      "metadata": {
        "id": "9d8bca3b"
      },
      "source": [
        "1) Import the packages:"
      ],
      "id": "9d8bca3b"
    },
    {
      "cell_type": "code",
      "metadata": {
        "id": "707cf362"
      },
      "source": [
        ""
      ],
      "id": "707cf362",
      "execution_count": null,
      "outputs": []
    },
    {
      "cell_type": "markdown",
      "metadata": {
        "id": "dd265547"
      },
      "source": [
        "2) Pick a style other than 'ggplot':"
      ],
      "id": "dd265547"
    },
    {
      "cell_type": "code",
      "metadata": {
        "id": "64a390e3"
      },
      "source": [
        ""
      ],
      "id": "64a390e3",
      "execution_count": null,
      "outputs": []
    },
    {
      "cell_type": "markdown",
      "metadata": {
        "id": "bd8ce86d"
      },
      "source": [
        "3) Set time parameters for this year:"
      ],
      "id": "bd8ce86d"
    },
    {
      "cell_type": "code",
      "metadata": {
        "id": "7c120b72"
      },
      "source": [
        ""
      ],
      "id": "7c120b72",
      "execution_count": null,
      "outputs": []
    },
    {
      "cell_type": "markdown",
      "metadata": {
        "id": "b31ccb92"
      },
      "source": [
        "4) Pick a stock ticker abbreviation to create a dataframe from downloaded data "
      ],
      "id": "b31ccb92"
    },
    {
      "cell_type": "code",
      "metadata": {
        "id": "e04f9b52"
      },
      "source": [
        ""
      ],
      "id": "e04f9b52",
      "execution_count": null,
      "outputs": []
    },
    {
      "cell_type": "markdown",
      "metadata": {
        "id": "4995fa97"
      },
      "source": [
        "5) Reset the dataframe variable to read the exported data:"
      ],
      "id": "4995fa97"
    },
    {
      "cell_type": "code",
      "metadata": {
        "id": "f2f9c148"
      },
      "source": [
        ""
      ],
      "id": "f2f9c148",
      "execution_count": null,
      "outputs": []
    },
    {
      "cell_type": "markdown",
      "metadata": {
        "id": "45ba60c3"
      },
      "source": [
        "6) Print it out to see if it worked"
      ],
      "id": "45ba60c3"
    },
    {
      "cell_type": "code",
      "metadata": {
        "id": "f0161cc6"
      },
      "source": [
        ""
      ],
      "id": "f0161cc6",
      "execution_count": null,
      "outputs": []
    },
    {
      "cell_type": "markdown",
      "metadata": {
        "id": "936e000b"
      },
      "source": [
        "7) Reduce decimal places for easier viewing and print it out to see if that worked"
      ],
      "id": "936e000b"
    },
    {
      "cell_type": "code",
      "metadata": {
        "id": "55649bb3"
      },
      "source": [
        ""
      ],
      "id": "55649bb3",
      "execution_count": null,
      "outputs": []
    },
    {
      "cell_type": "markdown",
      "metadata": {
        "id": "064227f6"
      },
      "source": [
        "8) Specify the index as the first column, and print the dataframe:"
      ],
      "id": "064227f6"
    },
    {
      "cell_type": "code",
      "metadata": {
        "id": "37849d18"
      },
      "source": [
        ""
      ],
      "id": "37849d18",
      "execution_count": null,
      "outputs": []
    },
    {
      "cell_type": "markdown",
      "metadata": {
        "id": "a11ec77a"
      },
      "source": [
        "9) Select the LAST two columns and print them out:"
      ],
      "id": "a11ec77a"
    },
    {
      "cell_type": "code",
      "metadata": {
        "id": "b95535f5"
      },
      "source": [
        ""
      ],
      "id": "b95535f5",
      "execution_count": null,
      "outputs": []
    },
    {
      "cell_type": "markdown",
      "metadata": {
        "id": "7c730c1f"
      },
      "source": [
        "10) Make a graph from ALL the data\n"
      ],
      "id": "7c730c1f"
    },
    {
      "cell_type": "code",
      "metadata": {
        "id": "a2d5b24c"
      },
      "source": [
        ""
      ],
      "id": "a2d5b24c",
      "execution_count": null,
      "outputs": []
    },
    {
      "cell_type": "markdown",
      "metadata": {
        "id": "59689e48"
      },
      "source": [
        "11) Assign a variable to the Adj Close data and plot the data as a graph, add a title, and get rid of the text above the graph"
      ],
      "id": "59689e48"
    },
    {
      "cell_type": "code",
      "metadata": {
        "id": "c0ac3c5b"
      },
      "source": [
        ""
      ],
      "id": "c0ac3c5b",
      "execution_count": null,
      "outputs": []
    },
    {
      "cell_type": "markdown",
      "metadata": {
        "id": "953eea3c"
      },
      "source": [
        "12) Create a 50 day Smimple moving average with no minimum period of calculation"
      ],
      "id": "953eea3c"
    },
    {
      "cell_type": "code",
      "metadata": {
        "id": "008a5252"
      },
      "source": [
        ""
      ],
      "id": "008a5252",
      "execution_count": null,
      "outputs": []
    },
    {
      "cell_type": "markdown",
      "metadata": {
        "id": "a6f7906c"
      },
      "source": [
        "13) Plot the 50 day moving average, add a title, and get rid of the text above the graph"
      ],
      "id": "a6f7906c"
    },
    {
      "cell_type": "code",
      "metadata": {
        "id": "934ed3b3"
      },
      "source": [
        ""
      ],
      "id": "934ed3b3",
      "execution_count": null,
      "outputs": []
    },
    {
      "cell_type": "markdown",
      "metadata": {
        "id": "8f007942"
      },
      "source": [
        "14) Create a graph for this data with a grid size of 12 by 6.\n",
        "a) Plot the Adjusted Close and 50 Day Simple Moving Average, \n",
        "b) label them and make the line width different for each, \n",
        "c) Add labels on the axes, \n",
        "d) Add a title, \n",
        "e) Add a legend\n",
        "\n",
        "(20 pts.)"
      ],
      "id": "8f007942"
    },
    {
      "cell_type": "code",
      "metadata": {
        "id": "fa483081"
      },
      "source": [
        ""
      ],
      "id": "fa483081",
      "execution_count": null,
      "outputs": []
    }
  ]
}