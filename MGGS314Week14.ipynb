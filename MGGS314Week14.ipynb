{
  "nbformat": 4,
  "nbformat_minor": 0,
  "metadata": {
    "colab": {
      "provenance": [],
      "authorship_tag": "ABX9TyMgIMfmjW59Vu6UCpeEvpkV",
      "include_colab_link": true
    },
    "kernelspec": {
      "name": "python3",
      "display_name": "Python 3"
    },
    "language_info": {
      "name": "python"
    }
  },
  "cells": [
    {
      "cell_type": "markdown",
      "metadata": {
        "id": "view-in-github",
        "colab_type": "text"
      },
      "source": [
        "<a href=\"https://colab.research.google.com/github/aak29/aak29/blob/main/MGGS314Week14.ipynb\" target=\"_parent\"><img src=\"https://colab.research.google.com/assets/colab-badge.svg\" alt=\"Open In Colab\"/></a>"
      ]
    },
    {
      "cell_type": "code",
      "execution_count": 1,
      "metadata": {
        "id": "bAc8x0GyD0K8"
      },
      "outputs": [],
      "source": [
        "class Dog():\n",
        "  \"\"\"A simple attempt to model a dog.\"\"\"\n",
        "  \n",
        "  def __init__(self, name, age):\n",
        "    '''Initialize name and age attributes.'''\n",
        "    self.name = name\n",
        "    self.age = age\n",
        "    \n",
        "  def sit(self):\n",
        "    '''Simulate a dog sitting in response to a command'''\n",
        "    print(self.name.title() + \" is now sitting.\")\n",
        "  \n",
        "  def roll_over(self):\n",
        "    '''Simulate rolling over in response to a command'''\n",
        "    print(self.name.title() + \" rolled over!\")\n"
      ]
    },
    {
      "cell_type": "code",
      "source": [
        "my_dog = Dog('willie', 6)\n",
        "print(\"My dog's name is \" + my_dog.name.title() + \".\")\n",
        "print(\"My dog is \" + str(my_dog.age) + \" years old.\")"
      ],
      "metadata": {
        "id": "ooKXNwgdG9wJ",
        "colab": {
          "base_uri": "https://localhost:8080/"
        },
        "outputId": "beae5b39-4beb-44ad-878f-882b72fa08ce"
      },
      "execution_count": 2,
      "outputs": [
        {
          "output_type": "stream",
          "name": "stdout",
          "text": [
            "My dog's name is Willie.\n",
            "My dog is 6 years old.\n"
          ]
        }
      ]
    },
    {
      "cell_type": "code",
      "source": [
        "my_dog.sit()\n",
        "my_dog.roll_over()"
      ],
      "metadata": {
        "colab": {
          "base_uri": "https://localhost:8080/"
        },
        "id": "-f3AJTU87AHB",
        "outputId": "d7131669-6f0b-4b69-da8f-95d4aec89d47"
      },
      "execution_count": 3,
      "outputs": [
        {
          "output_type": "stream",
          "name": "stdout",
          "text": [
            "Willie is now sitting.\n",
            "Willie rolled over!\n"
          ]
        }
      ]
    },
    {
      "cell_type": "code",
      "source": [
        "your_dog=Dog('lucy',3)\n",
        "print(\"Your dog's name is \" + your_dog.name.title() + \".\")\n",
        "print(\"Your dog is \" + str(your_dog.age) + \" years old.\")\n",
        "your_dog.sit()\n"
      ],
      "metadata": {
        "colab": {
          "base_uri": "https://localhost:8080/"
        },
        "id": "igsXDYZV7Jon",
        "outputId": "c240c0c7-c53d-4870-ed33-177257c90f78"
      },
      "execution_count": 4,
      "outputs": [
        {
          "output_type": "stream",
          "name": "stdout",
          "text": [
            "Your dog's name is Lucy.\n",
            "Your dog is 3 years old.\n",
            "Lucy is now sitting.\n"
          ]
        }
      ]
    },
    {
      "cell_type": "markdown",
      "source": [
        "# Exercise 1"
      ],
      "metadata": {
        "id": "E780gRNI9HGM"
      }
    },
    {
      "cell_type": "code",
      "source": [
        "class Restaurant():\n",
        "    \"\"\"a simple model of restaurant listings\"\"\"\n",
        "    \n",
        "    def __init__(self, restaurant_name, cuisine_type):\n",
        "        '''Initialize restaurant_name and cuisine_type attributes'''\n",
        "        self.restaurant_name = restaurant_name\n",
        "        self.cuisine_type = cuisine_type\n",
        "    \n",
        "    def describe_restaurant(self):\n",
        "        \"\"\" restaurant description for listings\"\"\"\n",
        "        print (self.restaurant_name.title() +  \" is a \" + self.cuisine_type + \" restaurant.\")\n",
        "        \n",
        "    def open_restaurant(self):\n",
        "        \"\"\"indicates when a restaurant is open\"\"\"\n",
        "        print(self.restaurant_name + \" is open.\")\n",
        "        "
      ],
      "metadata": {
        "id": "ESdY-y6m8hZ6"
      },
      "execution_count": 5,
      "outputs": []
    },
    {
      "cell_type": "code",
      "source": [
        "my_rest = Restaurant(\"Joe's\", \"hash house\")\n",
        "print(\"Today's restaurant is \" + my_rest.restaurant_name + \".\")\n",
        "print(\"Today's restaurant is a \" + my_rest.cuisine_type +\".\")\n",
        "\n",
        "my_rest.describe_restaurant()\n",
        "my_rest.open_restaurant()\n"
      ],
      "metadata": {
        "colab": {
          "base_uri": "https://localhost:8080/"
        },
        "id": "cYD6wK45-tFw",
        "outputId": "132e7a21-12da-4d13-c9e2-b7ca37fb58af"
      },
      "execution_count": 6,
      "outputs": [
        {
          "output_type": "stream",
          "name": "stdout",
          "text": [
            "Today's restaurant is Joe's.\n",
            "Today's restaurant is a hash house.\n",
            "Joe'S is a hash house restaurant.\n",
            "Joe's is open.\n"
          ]
        }
      ]
    },
    {
      "cell_type": "markdown",
      "source": [
        "# Exercise 2\n",
        "Three Restaurants: \n",
        "Start with your class from the previous exercise. \n",
        "\n",
        "•\tCreate three different instances from the class, and call describe_restaurant() for each instance.\n",
        "\n"
      ],
      "metadata": {
        "id": "zTLVKmXK9eIA"
      }
    },
    {
      "cell_type": "code",
      "source": [
        "mean_queen = Restaurant('the mean queen', 'pizza')\n",
        "mean_queen.describe_restaurant()"
      ],
      "metadata": {
        "colab": {
          "base_uri": "https://localhost:8080/"
        },
        "id": "BcRSErv6-87P",
        "outputId": "2513c649-abdf-4e28-b163-69444bad488c"
      },
      "execution_count": 7,
      "outputs": [
        {
          "output_type": "stream",
          "name": "stdout",
          "text": [
            "The Mean Queen is a pizza restaurant.\n"
          ]
        }
      ]
    },
    {
      "cell_type": "code",
      "source": [
        "ludvigs = Restaurant(\"ludvig's bistro\", 'seafood')\n",
        "ludvigs.describe_restaurant()"
      ],
      "metadata": {
        "colab": {
          "base_uri": "https://localhost:8080/"
        },
        "id": "cFAlZI2f_tWg",
        "outputId": "36ed298a-4c42-4bab-94c4-2a29efe7c581"
      },
      "execution_count": 8,
      "outputs": [
        {
          "output_type": "stream",
          "name": "stdout",
          "text": [
            "Ludvig'S Bistro is a seafood restaurant.\n"
          ]
        }
      ]
    },
    {
      "cell_type": "code",
      "source": [
        "mango_thai = Restaurant('mango thai', 'thai food')\n",
        "mango_thai.describe_restaurant()"
      ],
      "metadata": {
        "colab": {
          "base_uri": "https://localhost:8080/"
        },
        "id": "XzGJ6f_h_3KX",
        "outputId": "854ce561-8062-4620-834a-cc3fcb54f1d9"
      },
      "execution_count": 9,
      "outputs": [
        {
          "output_type": "stream",
          "name": "stdout",
          "text": [
            "Mango Thai is a thai food restaurant.\n"
          ]
        }
      ]
    },
    {
      "cell_type": "markdown",
      "source": [
        "# Exercise 3"
      ],
      "metadata": {
        "id": "umvsS9cLAq5g"
      }
    },
    {
      "cell_type": "code",
      "source": [
        "class User():\n",
        "    \"\"\"Represent a simple user profile.\"\"\"\n",
        "\n",
        "    def __init__(self, first_name, last_name, username, email, location):\n",
        "        \"\"\"Initialize the user.\"\"\"\n",
        "        self.first_name = first_name.title()\n",
        "        self.last_name = last_name.title()\n",
        "        self.username = username\n",
        "        self.email = email\n",
        "        self.location = location.title()\n",
        "\n",
        "    def describe_user(self):\n",
        "        \"\"\"Display a summary of the user's information.\"\"\"\n",
        "        print(\"\\n\" + self.first_name + \" \" + self.last_name)\n",
        "        print(\"  Username: \" + self.username)\n",
        "        print(\"  Email: \" + self.email)\n",
        "        print(\"  Location: \" + self.location)\n",
        "\n",
        "    def greet_user(self):\n",
        "        \"\"\"Display a personalized greeting to the user.\"\"\"\n",
        "        print(\"\\nWelcome back, \" + self.username + \"!\")"
      ],
      "metadata": {
        "id": "mLhf5CvhAEn-"
      },
      "execution_count": 10,
      "outputs": []
    },
    {
      "cell_type": "code",
      "source": [
        "alan_user = User('alan', 'katerinsky', 'akaterinsky', 'akaterinsky@example.com', 'new york')\n",
        "alan_user.describe_user()\n",
        "alan_user.greet_user()"
      ],
      "metadata": {
        "colab": {
          "base_uri": "https://localhost:8080/"
        },
        "id": "983jvxAGBS9b",
        "outputId": "14ddd7c6-1ed3-4ad5-bce8-75695ea7e66b"
      },
      "execution_count": 11,
      "outputs": [
        {
          "output_type": "stream",
          "name": "stdout",
          "text": [
            "\n",
            "Alan Katerinsky\n",
            "  Username: akaterinsky\n",
            "  Email: akaterinsky@example.com\n",
            "  Location: New York\n",
            "\n",
            "Welcome back, akaterinsky!\n"
          ]
        }
      ]
    },
    {
      "cell_type": "code",
      "source": [
        "willie = User('willie', 'burger', 'willieburger', 'wb@example.com', 'alaska')\n",
        "willie.describe_user()\n",
        "willie.greet_user()"
      ],
      "metadata": {
        "colab": {
          "base_uri": "https://localhost:8080/"
        },
        "id": "GnAh87xPBl6G",
        "outputId": "3dd98084-f396-4243-a0fd-ed6f7ad93f90"
      },
      "execution_count": 12,
      "outputs": [
        {
          "output_type": "stream",
          "name": "stdout",
          "text": [
            "\n",
            "Willie Burger\n",
            "  Username: willieburger\n",
            "  Email: wb@example.com\n",
            "  Location: Alaska\n",
            "\n",
            "Welcome back, willieburger!\n"
          ]
        }
      ]
    },
    {
      "cell_type": "markdown",
      "source": [
        "# The Car class"
      ],
      "metadata": {
        "id": "n8uapSmtAf_C"
      }
    },
    {
      "cell_type": "code",
      "source": [
        "class Car():\n",
        "    \"\"\" a simple attempt to represent a car.\"\"\"\n",
        "    \n",
        "    def __init__(self, make, model, year):\n",
        "        \"\"\"Intialize attributes to describe a car\"\"\"\n",
        "        self.make = make\n",
        "        self.model = model\n",
        "        self.year = year\n",
        "        self.odometer_reading = 0\n",
        "        self.gas_tank=0\n",
        "        \n",
        "    def get_descriptive_name(self):\n",
        "        \"\"\"Return a neatly formatted descriptive name\"\"\"\n",
        "        long_name = str(self.year) + ' ' + self.make + ' ' + self.model\n",
        "        return long_name.title()\n",
        "    \n",
        "    def read_odometer(self):\n",
        "        '''Print a statement showing the car's mileage'''\n",
        "        print(\"This car has \" + str(self.odometer_reading) + \" miles on it.\")\n",
        "        \n",
        "    def update_odometer(self, mileage):\n",
        "        \"\"\"Set the odometer reading to the given value.\"\"\"\n",
        "        if mileage >= self.odometer_reading:\n",
        "            self.odometer_reading = mileage\n",
        "        else:\n",
        "            print(\"You can't roll back the odometer!\")\n",
        "            \n",
        "    def increment_odometer(self, miles):\n",
        "        \"\"\"Add the given amount to the odometer reading.\"\"\"\n",
        "        self.odometer_reading += miles\n",
        "\n",
        "    def    fill_gas_tank(gallons):\n",
        "      \"\"\"adds gallons to the tank\"\"\"\n",
        "      print(\"The tank now has \"+ str(gallons)+ \"in it.\")\n"
      ],
      "metadata": {
        "id": "QBe74YM2B3Ka"
      },
      "execution_count": 36,
      "outputs": []
    },
    {
      "cell_type": "code",
      "source": [
        "my_new_car =Car ('audi', 'a4', 2016)"
      ],
      "metadata": {
        "id": "RohKp7tMA400"
      },
      "execution_count": 37,
      "outputs": []
    },
    {
      "cell_type": "code",
      "source": [
        "my_new_car.fill_gas_tank()"
      ],
      "metadata": {
        "colab": {
          "base_uri": "https://localhost:8080/"
        },
        "id": "IfkQchy1OeCQ",
        "outputId": "7cfcc62c-b30c-4847-ca05-a0e1bbeb9b32"
      },
      "execution_count": 41,
      "outputs": [
        {
          "output_type": "stream",
          "name": "stdout",
          "text": [
            "The tank now has <__main__.Car object at 0x7ff4a02644f0>in it.\n"
          ]
        }
      ]
    },
    {
      "cell_type": "code",
      "source": [
        "my_new_car.get_descriptive_name()"
      ],
      "metadata": {
        "colab": {
          "base_uri": "https://localhost:8080/",
          "height": 35
        },
        "id": "KRJjUaL_BJCE",
        "outputId": "706a8920-7f23-4796-b181-b2b78de6a3bd"
      },
      "execution_count": 15,
      "outputs": [
        {
          "output_type": "execute_result",
          "data": {
            "text/plain": [
              "'2016 Audi A4'"
            ],
            "application/vnd.google.colaboratory.intrinsic+json": {
              "type": "string"
            }
          },
          "metadata": {},
          "execution_count": 15
        }
      ]
    },
    {
      "cell_type": "code",
      "source": [
        "my_new_car.read_odometer()"
      ],
      "metadata": {
        "colab": {
          "base_uri": "https://localhost:8080/"
        },
        "id": "DsbrL4WoBXWR",
        "outputId": "3319e513-4104-44f9-e75a-8a164b87be05"
      },
      "execution_count": 16,
      "outputs": [
        {
          "output_type": "stream",
          "name": "stdout",
          "text": [
            "This car has 0 miles on it.\n"
          ]
        }
      ]
    },
    {
      "cell_type": "code",
      "source": [
        "my_new_car.odometer_reading = 23\n",
        "my_new_car.read_odometer()"
      ],
      "metadata": {
        "colab": {
          "base_uri": "https://localhost:8080/"
        },
        "id": "_sdeq_K3J-Kd",
        "outputId": "33abf7d3-e438-40bb-8a26-dc73fe68a781"
      },
      "execution_count": 17,
      "outputs": [
        {
          "output_type": "stream",
          "name": "stdout",
          "text": [
            "This car has 23 miles on it.\n"
          ]
        }
      ]
    },
    {
      "cell_type": "code",
      "source": [
        "my_new_car.update_odometer(21)\n",
        "my_new_car.read_odometer()"
      ],
      "metadata": {
        "colab": {
          "base_uri": "https://localhost:8080/"
        },
        "id": "Is48vylpK0wb",
        "outputId": "d45d0f26-357a-4453-b03b-a41007d47cc9"
      },
      "execution_count": 18,
      "outputs": [
        {
          "output_type": "stream",
          "name": "stdout",
          "text": [
            "You can't roll back the odometer!\n",
            "This car has 23 miles on it.\n"
          ]
        }
      ]
    },
    {
      "cell_type": "code",
      "source": [
        "my_used_car = Car('subaru', 'outback', 2013)\n",
        "print(my_used_car.get_descriptive_name())\n",
        "\n",
        "my_used_car.update_odometer(23500)\n",
        "my_used_car.read_odometer()\n",
        "\n",
        "my_used_car.increment_odometer(100)\n",
        "my_used_car.read_odometer() \n"
      ],
      "metadata": {
        "colab": {
          "base_uri": "https://localhost:8080/"
        },
        "id": "XlEmmO7cL53r",
        "outputId": "fa3164af-2a74-411b-dc69-6301376d6793"
      },
      "execution_count": 19,
      "outputs": [
        {
          "output_type": "stream",
          "name": "stdout",
          "text": [
            "2013 Subaru Outback\n",
            "This car has 23500 miles on it.\n",
            "This car has 23600 miles on it.\n"
          ]
        }
      ]
    },
    {
      "cell_type": "code",
      "source": [],
      "metadata": {
        "id": "PfQyZuzjORxB"
      },
      "execution_count": null,
      "outputs": []
    },
    {
      "cell_type": "code",
      "source": [
        "  \n",
        "class ElectricCar(Car):\n",
        "    \"\"\"Represent aspects of a car, specific to electric vehicles.\"\"\"\n",
        "    def __init__(self, make, model, year):\n",
        "        \"\"\"\n",
        "        Initialize attributes of the parent class.\n",
        "        Then initialize attributes specific to an electric car.\n",
        "        \"\"\"\n",
        "        super().__init__(make, model, year)\n",
        "        self.battery_size = 70\n",
        "        \n",
        "    def describe_battery(self):\n",
        "        \"\"\"Print a statement describing the battery size,\"\"\"\n",
        "        print(\"This car has a \" + str(self.battery_size) + \"-kWh battery.\")\n",
        "        \n",
        "    def fill_gas_tank():\n",
        "        \"\"\"Electric cars don't have gas tanks.\"\"\"\n",
        "        print(\"This car doesn't need a gas tank!\")"
      ],
      "metadata": {
        "id": "VQivDRSqCJ6V"
      },
      "execution_count": 27,
      "outputs": []
    },
    {
      "cell_type": "code",
      "source": [
        "my_tesla = ElectricCar('tesla', 'model s', 2016)\n",
        "print(my_tesla.get_descriptive_name())\n",
        "my_tesla.describe_battery()"
      ],
      "metadata": {
        "colab": {
          "base_uri": "https://localhost:8080/"
        },
        "id": "c6ytj8jBDsTN",
        "outputId": "450dd51d-b8d6-4568-c42a-6343d58b1661"
      },
      "execution_count": 29,
      "outputs": [
        {
          "output_type": "stream",
          "name": "stdout",
          "text": [
            "2016 Tesla Model S\n",
            "This car has a 70-kWh battery.\n"
          ]
        }
      ]
    },
    {
      "cell_type": "code",
      "source": [
        "#my_tesla.fill_gas_tank()"
      ],
      "metadata": {
        "id": "oO7e8Eh9Dx-4"
      },
      "execution_count": 40,
      "outputs": []
    },
    {
      "cell_type": "markdown",
      "source": [
        "# Exercise 4"
      ],
      "metadata": {
        "id": "WLPG_iCWHXSk"
      }
    },
    {
      "cell_type": "code",
      "source": [
        "import string\n",
        "class Restaurant():\n",
        "    \"\"\"a simple model of restaurant listings\"\"\"\n",
        "    \n",
        "    def __init__(self, restaurant_name, cuisine_type):\n",
        "        '''Initialize restaurant_name and cuisine_type attributes'''\n",
        "        self.restaurant_name = string.capwords(restaurant_name)\n",
        "        self.cuisine_type = cuisine_type\n",
        "        self.number_served = 0 \n",
        "    \n",
        "    def describe_restaurant(self):\n",
        "        \"\"\" restaurant description for listings\"\"\"\n",
        "        print (self.restaurant_name +  \" is a \" + self.cuisine_type + \" restaurant.\")\n",
        "        \n",
        "    def open_restaurant(self):\n",
        "        \"\"\"indicates when a restaurant is open\"\"\"\n",
        "        print(self.restaurant_name + \" is open.\")\n",
        "        \n",
        "    def set_number_served(self, number_served):\n",
        "        \"\"\"Allow user to set the number of customers that have been served.\"\"\"\n",
        "        self.number_served = number_served\n",
        "\n",
        "    def increment_number_served(self, additional_served):\n",
        "        \"\"\"Allow user to increment the number of customers served.\"\"\"\n",
        "        self.number_served += additional_served\n",
        "        \n",
        "my_rest = Restaurant('joe\\'s diner', \"hash house\")\n",
        "print(\"Today's restaurant is \" + my_rest.restaurant_name + \".\")\n",
        "print(\"Today's restaurant is \" + my_rest.cuisine_type +\".\")\n",
        "\n",
        "my_rest.describe_restaurant()\n",
        "my_rest.open_restaurant()\n",
        "\n"
      ],
      "metadata": {
        "colab": {
          "base_uri": "https://localhost:8080/"
        },
        "id": "arVf5gQjHeQ5",
        "outputId": "39958b55-7eb0-431c-ef82-4979dde7e6fa"
      },
      "execution_count": 23,
      "outputs": [
        {
          "output_type": "stream",
          "name": "stdout",
          "text": [
            "Today's restaurant is Joe's Diner.\n",
            "Today's restaurant is hash house.\n",
            "Joe's Diner is a hash house restaurant.\n",
            "Joe's Diner is open.\n"
          ]
        }
      ]
    },
    {
      "cell_type": "code",
      "source": [
        "print(\"\\nNumber served: \" + str(my_rest.number_served))\n",
        "my_rest.number_served = 430\n",
        "print(\"Number served: \" + str(my_rest.number_served))\n",
        "\n",
        "my_rest.set_number_served(1257)\n",
        "print(\"Number served: \" + str(my_rest.number_served))\n",
        "\n",
        "my_rest.increment_number_served(239)\n",
        "print(\"Number served: \" + str(my_rest.number_served))\n",
        "\n"
      ],
      "metadata": {
        "colab": {
          "base_uri": "https://localhost:8080/"
        },
        "id": "smNqfpHHH9pQ",
        "outputId": "6d8e488f-c8a4-4df5-d0e5-fbfd8d309761"
      },
      "execution_count": 42,
      "outputs": [
        {
          "output_type": "stream",
          "name": "stdout",
          "text": [
            "\n",
            "Number served: 1496\n",
            "Number served: 430\n",
            "Number served: 1257\n",
            "Number served: 1496\n"
          ]
        }
      ]
    },
    {
      "cell_type": "markdown",
      "source": [
        "# Battery Class"
      ],
      "metadata": {
        "id": "omWhRfV3SoKQ"
      }
    },
    {
      "cell_type": "code",
      "source": [
        "class Car():\n",
        "    \"\"\" a simple attempt to represent a car.\"\"\"\n",
        "    \n",
        "    def __init__(self, make, model, year):\n",
        "        \"\"\"Intialize attributes to describe a car\"\"\"\n",
        "        self.make = make\n",
        "        self.model = model\n",
        "        self.year = year\n",
        "        self.odometer_reading = 0\n",
        "        \n",
        "    def get_descriptive_name(self):\n",
        "        \"\"\"Return a neatly formatted descriptive name\"\"\"\n",
        "        long_name = str(self.year) + ' ' + self.make + ' ' + self.model\n",
        "        return long_name.title()\n",
        "    def read_odometer(self):\n",
        "        '''Print a statement showing the car's mileage'''\n",
        "        print(\"This car has \" + str(self.odometer_reading) + \" miles on it.\")\n",
        "        \n",
        "    def update_odometer(self, mileage):\n",
        "        \"\"\"Set the odometer reading to the given value.\"\"\"\n",
        "        if mileage >= self.odometer_reading:\n",
        "            self.odometer_reading = mileage\n",
        "        else:\n",
        "            print(\"You can't roll back the odometer!\")\n",
        "            \n",
        "    def increment_odometer(self, miles):\n",
        "        \"\"\"Add the given amount to the odometer reading.\"\"\"\n",
        "        self.odometer_reading += miles\n",
        "    \n",
        "class ElectricCar(Car):\n",
        "    \"\"\"Represent aspects of a car, specific to electric vehicles.\"\"\"\n",
        "    def __init__(self, make, model, year):\n",
        "        \"\"\"\n",
        "        Initialize attributes of the parent class.\n",
        "        Then initialize attributes specific to an electric car.\n",
        "        \"\"\"\n",
        "        super().__init__(make, model, year)\n",
        "        self.battery=Battery()\n",
        "        \n",
        "    def fill_gas_tank():\n",
        "        '''Electric cars don't have gas tanks.'''\n",
        "        print(\"This car doesn't need a gas tank!\")\n",
        "class Battery():\n",
        "    \"\"\"A simple attempt to model a battery for an electric car.\"\"\"\n",
        "    \n",
        "    def __init__(self, battery_size=70):\n",
        "        '''Initialize the battery's attributes.'''\n",
        "        self.battery_size = battery_size\n",
        "    \n",
        "    def describe_battery(self):\n",
        "        \"\"\"Print a statement describing the battery size.\"\"\"\n",
        "        print(\"This car has a \" + str(self.battery_size) + \"-kWh battery.\")\n",
        "        \n",
        "    def get_range(self):\n",
        "        \"\"\"Print a statement about the range this battery provides.\"\"\"\n",
        "        if self.battery_size == 70:\n",
        "            range = 240\n",
        "        elif self.battery_size == 85:\n",
        "            range = 270\n",
        "        message = \"This car can go approximately \" + str(range)\n",
        "        message += \" miles on a full charge.\"\n",
        "        print(message)\n",
        "    \n",
        "my_tesla = ElectricCar('tesla', 'model s', 2016)\n",
        "print(my_tesla.get_descriptive_name())\n",
        "my_tesla.battery.describe_battery()\n",
        "my_tesla.battery.get_range()\n"
      ],
      "metadata": {
        "colab": {
          "base_uri": "https://localhost:8080/"
        },
        "id": "fBEnKHi0Sl6-",
        "outputId": "7b3ce1ec-1b9e-49dd-a34c-83cb04262944"
      },
      "execution_count": 43,
      "outputs": [
        {
          "output_type": "stream",
          "name": "stdout",
          "text": [
            "2016 Tesla Model S\n",
            "This car has a 70-kWh battery.\n",
            "This car can go approximately 240 miles on a full charge.\n"
          ]
        }
      ]
    }
  ]
}