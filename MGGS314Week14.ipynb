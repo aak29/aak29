{
  "nbformat": 4,
  "nbformat_minor": 0,
  "metadata": {
    "colab": {
      "provenance": [],
      "authorship_tag": "ABX9TyN2OLpqOToiliqYXO/+BoQ3",
      "include_colab_link": true
    },
    "kernelspec": {
      "name": "python3",
      "display_name": "Python 3"
    },
    "language_info": {
      "name": "python"
    }
  },
  "cells": [
    {
      "cell_type": "markdown",
      "metadata": {
        "id": "view-in-github",
        "colab_type": "text"
      },
      "source": [
        "<a href=\"https://colab.research.google.com/github/aak29/aak29/blob/main/MGGS314Week14.ipynb\" target=\"_parent\"><img src=\"https://colab.research.google.com/assets/colab-badge.svg\" alt=\"Open In Colab\"/></a>"
      ]
    },
    {
      "cell_type": "code",
      "execution_count": 1,
      "metadata": {
        "id": "bAc8x0GyD0K8"
      },
      "outputs": [],
      "source": [
        "class Dog():\n",
        "  \"\"\"A simple attempt to model a dog.\"\"\"\n",
        "  \n",
        "  def __init__(self, name, age):\n",
        "    '''Initialize name and age attributes.'''\n",
        "    self.name = name\n",
        "    self.age = age\n",
        "    \n",
        "  def sit(self):\n",
        "    '''Simulate a dog sitting in response to a command'''\n",
        "    print(self.name.title() + \" is now sitting.\")\n",
        "  \n",
        "  def roll_over(self):\n",
        "    '''Simulate rolling over in response to a command'''\n",
        "    print(self.name.title() + \" rolled over!\")\n"
      ]
    },
    {
      "cell_type": "code",
      "source": [
        "my_dog = Dog('willie', 6)\n",
        "print(\"My dog's name is \" + my_dog.name.title() + \".\")\n",
        "print(\"My dog is \" + str(my_dog.age) + \" years old.\")"
      ],
      "metadata": {
        "id": "ooKXNwgdG9wJ",
        "colab": {
          "base_uri": "https://localhost:8080/"
        },
        "outputId": "c3f287f0-3658-4330-9345-5821f9aa1d26"
      },
      "execution_count": 2,
      "outputs": [
        {
          "output_type": "stream",
          "name": "stdout",
          "text": [
            "My dog's name is Willie.\n",
            "My dog is 6 years old.\n"
          ]
        }
      ]
    },
    {
      "cell_type": "code",
      "source": [
        "my_dog.sit()\n",
        "my_dog.roll_over()"
      ],
      "metadata": {
        "colab": {
          "base_uri": "https://localhost:8080/"
        },
        "id": "-f3AJTU87AHB",
        "outputId": "add4cc81-0710-4694-eefe-f4d31410658a"
      },
      "execution_count": 3,
      "outputs": [
        {
          "output_type": "stream",
          "name": "stdout",
          "text": [
            "Willie is now sitting.\n",
            "Willie rolled over!\n"
          ]
        }
      ]
    },
    {
      "cell_type": "code",
      "source": [
        "your_dog=Dog('lucy',3)\n",
        "print(\"Your dog's name is \" + your_dog.name.title() + \".\")\n",
        "print(\"Your dog is \" + str(your_dog.age) + \" years old.\")\n",
        "your_dog.sit()\n"
      ],
      "metadata": {
        "colab": {
          "base_uri": "https://localhost:8080/"
        },
        "id": "igsXDYZV7Jon",
        "outputId": "003f9aef-f5bc-4b14-f943-83b65211d6a1"
      },
      "execution_count": 4,
      "outputs": [
        {
          "output_type": "stream",
          "name": "stdout",
          "text": [
            "Your dog's name is Lucy.\n",
            "Your dog is 3 years old.\n",
            "Lucy is now sitting.\n"
          ]
        }
      ]
    },
    {
      "cell_type": "markdown",
      "source": [
        "# Exercise 1"
      ],
      "metadata": {
        "id": "E780gRNI9HGM"
      }
    },
    {
      "cell_type": "code",
      "source": [
        "class Restaurant():\n",
        "    \"\"\"a simple model of restaurant listings\"\"\"\n",
        "    \n",
        "    def __init__(self, restaurant_name, cuisine_type):\n",
        "        '''Initialize restaurant_name and cuisine_type attributes'''\n",
        "        self.restaurant_name = restaurant_name\n",
        "        self.cuisine_type = cuisine_type\n",
        "    \n",
        "    def describe_restaurant(self):\n",
        "        \"\"\" restaurant description for listings\"\"\"\n",
        "        print (self.restaurant_name.title() +  \" is a \" + self.cuisine_type + \" restaurant.\")\n",
        "        \n",
        "    def open_restaurant(self):\n",
        "        \"\"\"indicates when a restaurant is open\"\"\"\n",
        "        print(self.restaurant_name + \" is open.\")\n",
        "        "
      ],
      "metadata": {
        "id": "ESdY-y6m8hZ6"
      },
      "execution_count": 7,
      "outputs": []
    },
    {
      "cell_type": "code",
      "source": [
        "my_rest = Restaurant(\"Joe's\", \"hash house\")\n",
        "print(\"Today's restaurant is \" + my_rest.restaurant_name + \".\")\n",
        "print(\"Today's restaurant is a \" + my_rest.cuisine_type +\".\")\n",
        "\n",
        "my_rest.describe_restaurant()\n",
        "my_rest.open_restaurant()\n"
      ],
      "metadata": {
        "colab": {
          "base_uri": "https://localhost:8080/"
        },
        "id": "cYD6wK45-tFw",
        "outputId": "17e52de6-b7a3-441c-bafd-dd845f0d0337"
      },
      "execution_count": 8,
      "outputs": [
        {
          "output_type": "stream",
          "name": "stdout",
          "text": [
            "Today's restaurant is Joe's.\n",
            "Today's restaurant is a hash house.\n",
            "Joe'S is a hash house restaurant.\n",
            "Joe's is open.\n"
          ]
        }
      ]
    },
    {
      "cell_type": "markdown",
      "source": [
        "# Exercise 2\n",
        "Three Restaurants: \n",
        "Start with your class from the previous exercise. \n",
        "\n",
        "•\tCreate three different instances from the class, and call describe_restaurant() for each instance.\n",
        "\n"
      ],
      "metadata": {
        "id": "zTLVKmXK9eIA"
      }
    },
    {
      "cell_type": "code",
      "source": [
        "mean_queen = Restaurant('the mean queen', 'pizza')\n",
        "mean_queen.describe_restaurant()"
      ],
      "metadata": {
        "colab": {
          "base_uri": "https://localhost:8080/"
        },
        "id": "BcRSErv6-87P",
        "outputId": "35d4bd0e-2f7b-4d59-bbb5-7b492642de65"
      },
      "execution_count": 9,
      "outputs": [
        {
          "output_type": "stream",
          "name": "stdout",
          "text": [
            "The Mean Queen is a pizza restaurant.\n"
          ]
        }
      ]
    },
    {
      "cell_type": "code",
      "source": [
        "ludvigs = Restaurant(\"ludvig's bistro\", 'seafood')\n",
        "ludvigs.describe_restaurant()"
      ],
      "metadata": {
        "colab": {
          "base_uri": "https://localhost:8080/"
        },
        "id": "cFAlZI2f_tWg",
        "outputId": "f6260ac1-9aa7-4c36-cd75-d7a292d00574"
      },
      "execution_count": 10,
      "outputs": [
        {
          "output_type": "stream",
          "name": "stdout",
          "text": [
            "Ludvig'S Bistro is a seafood restaurant.\n"
          ]
        }
      ]
    },
    {
      "cell_type": "code",
      "source": [
        "mango_thai = Restaurant('mango thai', 'thai food')\n",
        "mango_thai.describe_restaurant()"
      ],
      "metadata": {
        "colab": {
          "base_uri": "https://localhost:8080/"
        },
        "id": "XzGJ6f_h_3KX",
        "outputId": "c561c093-5eb9-4989-945e-d658f7e1a7d8"
      },
      "execution_count": 11,
      "outputs": [
        {
          "output_type": "stream",
          "name": "stdout",
          "text": [
            "Mango Thai is a thai food restaurant.\n"
          ]
        }
      ]
    },
    {
      "cell_type": "markdown",
      "source": [
        "# Exercise 3"
      ],
      "metadata": {
        "id": "umvsS9cLAq5g"
      }
    },
    {
      "cell_type": "code",
      "source": [
        "class User():\n",
        "    \"\"\"Represent a simple user profile.\"\"\"\n",
        "\n",
        "    def __init__(self, first_name, last_name, username, email, location):\n",
        "        \"\"\"Initialize the user.\"\"\"\n",
        "        self.first_name = first_name.title()\n",
        "        self.last_name = last_name.title()\n",
        "        self.username = username\n",
        "        self.email = email\n",
        "        self.location = location.title()\n",
        "\n",
        "    def describe_user(self):\n",
        "        \"\"\"Display a summary of the user's information.\"\"\"\n",
        "        print(\"\\n\" + self.first_name + \" \" + self.last_name)\n",
        "        print(\"  Username: \" + self.username)\n",
        "        print(\"  Email: \" + self.email)\n",
        "        print(\"  Location: \" + self.location)\n",
        "\n",
        "    def greet_user(self):\n",
        "        \"\"\"Display a personalized greeting to the user.\"\"\"\n",
        "        print(\"\\nWelcome back, \" + self.username + \"!\")"
      ],
      "metadata": {
        "id": "mLhf5CvhAEn-"
      },
      "execution_count": 14,
      "outputs": []
    },
    {
      "cell_type": "code",
      "source": [
        "alan_user = User('alan', 'katerinsky', 'akaterinsky', 'akaterinsky@example.com', 'new york')\n",
        "alan_user.describe_user()\n",
        "alan_user.greet_user()"
      ],
      "metadata": {
        "colab": {
          "base_uri": "https://localhost:8080/"
        },
        "id": "983jvxAGBS9b",
        "outputId": "8a39db2f-9304-4322-9bf7-284c249d4e05"
      },
      "execution_count": 15,
      "outputs": [
        {
          "output_type": "stream",
          "name": "stdout",
          "text": [
            "\n",
            "Alan Katerinsky\n",
            "  Username: akaterinsky\n",
            "  Email: akaterinsky@example.com\n",
            "  Location: New York\n",
            "\n",
            "Welcome back, akaterinsky!\n"
          ]
        }
      ]
    },
    {
      "cell_type": "code",
      "source": [
        "willie = User('willie', 'burger', 'willieburger', 'wb@example.com', 'alaska')\n",
        "willie.describe_user()\n",
        "willie.greet_user()"
      ],
      "metadata": {
        "colab": {
          "base_uri": "https://localhost:8080/"
        },
        "id": "GnAh87xPBl6G",
        "outputId": "2833de0d-e8fa-47c3-de2b-35cc2673b735"
      },
      "execution_count": 16,
      "outputs": [
        {
          "output_type": "stream",
          "name": "stdout",
          "text": [
            "\n",
            "Willie Burger\n",
            "  Username: willieburger\n",
            "  Email: wb@example.com\n",
            "  Location: Alaska\n",
            "\n",
            "Welcome back, willieburger!\n"
          ]
        }
      ]
    },
    {
      "cell_type": "markdown",
      "source": [
        "# The Car class"
      ],
      "metadata": {
        "id": "n8uapSmtAf_C"
      }
    },
    {
      "cell_type": "code",
      "source": [
        "class Car():\n",
        "    \"\"\" a simple attempt to represent a car.\"\"\"\n",
        "    \n",
        "    def __init__(self, make, model, year):\n",
        "        \"\"\"Intialize attributes to describe a car\"\"\"\n",
        "        self.make = make\n",
        "        self.model = model\n",
        "        self.year = year\n",
        "        self.odometer_reading = 0\n",
        "        \n",
        "    def get_descriptive_name(self):\n",
        "        \"\"\"Return a neatly formatted descriptive name\"\"\"\n",
        "        long_name = str(self.year) + ' ' + self.make + ' ' + self.model\n",
        "        return long_name.title()\n",
        "    \n",
        "    def read_odometer(self):\n",
        "        '''Print a statement showing the car's mileage'''\n",
        "        print(\"This car has \" + str(self.odometer_reading) + \" miles on it.\")"
      ],
      "metadata": {
        "id": "QBe74YM2B3Ka"
      },
      "execution_count": 18,
      "outputs": []
    },
    {
      "cell_type": "code",
      "source": [
        "my_new_car =Car ('audi', 'a4', 2016)"
      ],
      "metadata": {
        "id": "RohKp7tMA400"
      },
      "execution_count": 20,
      "outputs": []
    },
    {
      "cell_type": "code",
      "source": [
        "my_new_car.get_descriptive_name()"
      ],
      "metadata": {
        "colab": {
          "base_uri": "https://localhost:8080/",
          "height": 35
        },
        "id": "KRJjUaL_BJCE",
        "outputId": "15798c3e-130c-48f3-d161-a7ce6dccad4b"
      },
      "execution_count": 21,
      "outputs": [
        {
          "output_type": "execute_result",
          "data": {
            "text/plain": [
              "'2016 Audi A4'"
            ],
            "application/vnd.google.colaboratory.intrinsic+json": {
              "type": "string"
            }
          },
          "metadata": {},
          "execution_count": 21
        }
      ]
    },
    {
      "cell_type": "code",
      "source": [
        "my_new_car.read_odometer()"
      ],
      "metadata": {
        "colab": {
          "base_uri": "https://localhost:8080/"
        },
        "id": "DsbrL4WoBXWR",
        "outputId": "09a5e203-5ba3-49c5-ba8b-474e95950df9"
      },
      "execution_count": 22,
      "outputs": [
        {
          "output_type": "stream",
          "name": "stdout",
          "text": [
            "This car has 0 miles on it.\n"
          ]
        }
      ]
    },
    {
      "cell_type": "code",
      "source": [],
      "metadata": {
        "id": "VQivDRSqCJ6V"
      },
      "execution_count": null,
      "outputs": []
    }
  ]
}