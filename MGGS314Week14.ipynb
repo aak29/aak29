{
  "nbformat": 4,
  "nbformat_minor": 0,
  "metadata": {
    "colab": {
      "provenance": [],
      "authorship_tag": "ABX9TyO9IwC40i1Bbib+v5Daxl80",
      "include_colab_link": true
    },
    "kernelspec": {
      "name": "python3",
      "display_name": "Python 3"
    },
    "language_info": {
      "name": "python"
    }
  },
  "cells": [
    {
      "cell_type": "markdown",
      "metadata": {
        "id": "view-in-github",
        "colab_type": "text"
      },
      "source": [
        "<a href=\"https://colab.research.google.com/github/aak29/aak29/blob/main/MGGS314Week14.ipynb\" target=\"_parent\"><img src=\"https://colab.research.google.com/assets/colab-badge.svg\" alt=\"Open In Colab\"/></a>"
      ]
    },
    {
      "cell_type": "code",
      "execution_count": 1,
      "metadata": {
        "id": "bAc8x0GyD0K8"
      },
      "outputs": [],
      "source": [
        "class Dog():\n",
        "  \"\"\"A simple attempt to model a dog.\"\"\"\n",
        "  \n",
        "  def __init__(self, name, age):\n",
        "    '''Initialize name and age attributes.'''\n",
        "    self.name = name\n",
        "    self.age = age\n",
        "    \n",
        "  def sit(self):\n",
        "    '''Simulate a dog sitting in response to a command'''\n",
        "    print(self.name.title() + \" is now sitting.\")\n",
        "  \n",
        "  def roll_over(self):\n",
        "    '''Simulate rolling over in response to a command'''\n",
        "    print(self.name.title() + \" rolled over!\")\n"
      ]
    },
    {
      "cell_type": "code",
      "source": [
        "my_dog = Dog('willie', 6)\n",
        "print(\"My dog's name is \" + my_dog.name.title() + \".\")\n",
        "print(\"My dog is \" + str(my_dog.age) + \" years old.\")"
      ],
      "metadata": {
        "id": "ooKXNwgdG9wJ",
        "colab": {
          "base_uri": "https://localhost:8080/"
        },
        "outputId": "c3f287f0-3658-4330-9345-5821f9aa1d26"
      },
      "execution_count": 2,
      "outputs": [
        {
          "output_type": "stream",
          "name": "stdout",
          "text": [
            "My dog's name is Willie.\n",
            "My dog is 6 years old.\n"
          ]
        }
      ]
    },
    {
      "cell_type": "code",
      "source": [
        "my_dog.sit()\n",
        "my_dog.roll_over()"
      ],
      "metadata": {
        "colab": {
          "base_uri": "https://localhost:8080/"
        },
        "id": "-f3AJTU87AHB",
        "outputId": "add4cc81-0710-4694-eefe-f4d31410658a"
      },
      "execution_count": 3,
      "outputs": [
        {
          "output_type": "stream",
          "name": "stdout",
          "text": [
            "Willie is now sitting.\n",
            "Willie rolled over!\n"
          ]
        }
      ]
    },
    {
      "cell_type": "code",
      "source": [
        "your_dog=Dog('lucy',3)\n",
        "print(\"Your dog's name is \" + your_dog.name.title() + \".\")\n",
        "print(\"Your dog is \" + str(your_dog.age) + \" years old.\")\n",
        "your_dog.sit()\n"
      ],
      "metadata": {
        "colab": {
          "base_uri": "https://localhost:8080/"
        },
        "id": "igsXDYZV7Jon",
        "outputId": "003f9aef-f5bc-4b14-f943-83b65211d6a1"
      },
      "execution_count": 4,
      "outputs": [
        {
          "output_type": "stream",
          "name": "stdout",
          "text": [
            "Your dog's name is Lucy.\n",
            "Your dog is 3 years old.\n",
            "Lucy is now sitting.\n"
          ]
        }
      ]
    },
    {
      "cell_type": "markdown",
      "source": [
        "# Exercise 1"
      ],
      "metadata": {
        "id": "E780gRNI9HGM"
      }
    },
    {
      "cell_type": "code",
      "source": [
        "class Restaurant():\n",
        "    \"\"\"a simple model of restaurant listings\"\"\"\n",
        "    \n",
        "    def __init__(self, restaurant_name, cuisine_type):\n",
        "        '''Initialize restaurant_name and cuisine_type attributes'''\n",
        "        self.restaurant_name = restaurant_name\n",
        "        self.cuisine_type = cuisine_type\n",
        "    \n",
        "    def describe_restaurant(self):\n",
        "        \"\"\" restaurant description for listings\"\"\"\n",
        "        print (self.restaurant_name +  \" is a \" + self.cuisine_type + \" restaurant.\")\n",
        "        \n",
        "    def open_restaurant(self):\n",
        "        \"\"\"indicates when a restaurant is open\"\"\"\n",
        "        print(self.restaurant_name + \" is open.\")\n",
        "        "
      ],
      "metadata": {
        "id": "ESdY-y6m8hZ6"
      },
      "execution_count": 5,
      "outputs": []
    },
    {
      "cell_type": "code",
      "source": [
        "my_rest = Restaurant(\"Joe's\", \"hash house\")\n",
        "print(\"Today's restaurant is \" + my_rest.restaurant_name + \".\")\n",
        "print(\"Today's restaurant is a \" + my_rest.cuisine_type +\".\")\n",
        "\n",
        "my_rest.describe_restaurant()\n",
        "my_rest.open_restaurant()\n"
      ],
      "metadata": {
        "colab": {
          "base_uri": "https://localhost:8080/"
        },
        "id": "cYD6wK45-tFw",
        "outputId": "9fd07e0d-5753-4e8a-a2d5-5ba9cd0f2b07"
      },
      "execution_count": 6,
      "outputs": [
        {
          "output_type": "stream",
          "name": "stdout",
          "text": [
            "Today's restaurant is Joe's.\n",
            "Today's restaurant is a hash house.\n",
            "Joe's is a hash house restaurant.\n",
            "Joe's is open.\n"
          ]
        }
      ]
    },
    {
      "cell_type": "code",
      "source": [
        "mean_queen = Restaurant('the mean queen', 'pizza')\n",
        "mean_queen.describe_restaurant()"
      ],
      "metadata": {
        "colab": {
          "base_uri": "https://localhost:8080/"
        },
        "id": "BcRSErv6-87P",
        "outputId": "7019d832-7c55-49bd-d3d4-3dda30b764fe"
      },
      "execution_count": null,
      "outputs": [
        {
          "output_type": "stream",
          "name": "stdout",
          "text": [
            "the mean queen is a pizza restaurant.\n"
          ]
        }
      ]
    },
    {
      "cell_type": "code",
      "source": [
        "ludvigs = Restaurant(\"ludvig's bistro\", 'seafood')\n",
        "ludvigs.describe_restaurant()"
      ],
      "metadata": {
        "colab": {
          "base_uri": "https://localhost:8080/"
        },
        "id": "cFAlZI2f_tWg",
        "outputId": "ea7cca16-2088-4fba-a02b-4b2a41b3e8a1"
      },
      "execution_count": null,
      "outputs": [
        {
          "output_type": "stream",
          "name": "stdout",
          "text": [
            "ludvig's bistro is a seafood restaurant.\n"
          ]
        }
      ]
    },
    {
      "cell_type": "code",
      "source": [
        "mango_thai = Restaurant('mango thai', 'thai food')\n",
        "mango_thai.describe_restaurant()"
      ],
      "metadata": {
        "colab": {
          "base_uri": "https://localhost:8080/"
        },
        "id": "XzGJ6f_h_3KX",
        "outputId": "a458d282-c742-4ae4-fa7b-c67fc9bbed6d"
      },
      "execution_count": null,
      "outputs": [
        {
          "output_type": "stream",
          "name": "stdout",
          "text": [
            "mango thai is a thai food restaurant.\n"
          ]
        }
      ]
    },
    {
      "cell_type": "markdown",
      "source": [
        "# Exercise 3"
      ],
      "metadata": {
        "id": "umvsS9cLAq5g"
      }
    },
    {
      "cell_type": "code",
      "source": [
        "class User():\n",
        "    \"\"\"Represent a simple user profile.\"\"\"\n",
        "\n",
        "    def __init__(self, first_name, last_name, username, email, location):\n",
        "        \"\"\"Initialize the user.\"\"\"\n",
        "        self.first_name = first_name.title()\n",
        "        self.last_name = last_name.title()\n",
        "        self.username = username\n",
        "        self.email = email\n",
        "        self.location = location.title()\n",
        "\n",
        "    def describe_user(self):\n",
        "        \"\"\"Display a summary of the user's information.\"\"\"\n",
        "        print(\"\\n\" + self.first_name + \" \" + self.last_name)\n",
        "        print(\"  Username: \" + self.username)\n",
        "        print(\"  Email: \" + self.email)\n",
        "        print(\"  Location: \" + self.location)\n",
        "\n",
        "    def greet_user(self):\n",
        "        \"\"\"Display a personalized greeting to the user.\"\"\"\n",
        "        print(\"\\nWelcome back, \" + self.username + \"!\")"
      ],
      "metadata": {
        "id": "mLhf5CvhAEn-"
      },
      "execution_count": null,
      "outputs": []
    },
    {
      "cell_type": "code",
      "source": [
        "alan_user = User('alan', 'katerinsky', 'akaterinsky', 'akaterinsky@example.com', 'new york')\n",
        "alan_user.describe_user()\n",
        "alan_user.greet_user()"
      ],
      "metadata": {
        "colab": {
          "base_uri": "https://localhost:8080/"
        },
        "id": "983jvxAGBS9b",
        "outputId": "68c14d3d-0ea9-4d34-9934-704c9e4191aa"
      },
      "execution_count": null,
      "outputs": [
        {
          "output_type": "stream",
          "name": "stdout",
          "text": [
            "\n",
            "Alan Katerinsky\n",
            "  Username: akaterinsky\n",
            "  Email: akaterinsky@example.com\n",
            "  Location: New York\n",
            "\n",
            "Welcome back, akaterinsky!\n"
          ]
        }
      ]
    },
    {
      "cell_type": "code",
      "source": [
        "willie = User('willie', 'burger', 'willieburger', 'wb@example.com', 'alaska')\n",
        "willie.describe_user()\n",
        "willie.greet_user()"
      ],
      "metadata": {
        "colab": {
          "base_uri": "https://localhost:8080/"
        },
        "id": "GnAh87xPBl6G",
        "outputId": "a5f4238a-6005-460a-9748-969ca360d6b2"
      },
      "execution_count": null,
      "outputs": [
        {
          "output_type": "stream",
          "name": "stdout",
          "text": [
            "\n",
            "Willie Burger\n",
            "  Username: willieburger\n",
            "  Email: wb@example.com\n",
            "  Location: Alaska\n",
            "\n",
            "Welcome back, willieburger!\n"
          ]
        }
      ]
    },
    {
      "cell_type": "code",
      "source": [],
      "metadata": {
        "id": "QBe74YM2B3Ka"
      },
      "execution_count": null,
      "outputs": []
    }
  ]
}